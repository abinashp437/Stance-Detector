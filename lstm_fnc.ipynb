{
  "nbformat": 4,
  "nbformat_minor": 0,
  "metadata": {
    "colab": {
      "name": "lstm_fnc.ipynb",
      "provenance": [],
      "collapsed_sections": [],
      "authorship_tag": "ABX9TyMel/JlCL55R7KXjeYa9lgl",
      "include_colab_link": true
    },
    "kernelspec": {
      "name": "python3",
      "display_name": "Python 3"
    },
    "accelerator": "GPU"
  },
  "cells": [
    {
      "cell_type": "markdown",
      "metadata": {
        "id": "view-in-github",
        "colab_type": "text"
      },
      "source": [
        "<a href=\"https://colab.research.google.com/github/abinashp437/Stance_Detection_FNC_1/blob/main/lstm_fnc.ipynb\" target=\"_parent\"><img src=\"https://colab.research.google.com/assets/colab-badge.svg\" alt=\"Open In Colab\"/></a>"
      ]
    },
    {
      "cell_type": "code",
      "metadata": {
        "id": "-UmDW7oZ1i9_",
        "outputId": "70d4c488-5378-4944-97bd-7666bd82d342",
        "colab": {
          "base_uri": "https://localhost:8080/"
        }
      },
      "source": [
        "%tensorflow_version 2.x\n",
        "import pandas as pd\n",
        "import numpy as np\n",
        "import nltk\n",
        "nltk.download('stopwords') #for stopword removal\n",
        "nltk.download('wordnet')\n",
        "from nltk.corpus import stopwords\n",
        "from gensim.models import Word2Vec\n",
        "import tensorflow as tf\n",
        "from tensorflow import keras\n",
        "from google.colab import files\n"
      ],
      "execution_count": 1,
      "outputs": [
        {
          "output_type": "stream",
          "text": [
            "[nltk_data] Downloading package stopwords to /root/nltk_data...\n",
            "[nltk_data]   Package stopwords is already up-to-date!\n",
            "[nltk_data] Downloading package wordnet to /root/nltk_data...\n",
            "[nltk_data]   Package wordnet is already up-to-date!\n"
          ],
          "name": "stdout"
        }
      ]
    },
    {
      "cell_type": "code",
      "metadata": {
        "id": "dQlrw8Js5tEp"
      },
      "source": [
        "body_url = \"https://raw.githubusercontent.com/abinashp437/Stance_Detection_FNC_1/main/fnc_1_data/train_bodies.csv\"\n",
        "body = pd.read_csv(body_url)\n",
        "stance_url = \"https://raw.githubusercontent.com/abinashp437/Stance_Detection_FNC_1/main/fnc_1_data/train_stances.csv\"\n",
        "stance = pd.read_csv(stance_url)"
      ],
      "execution_count": 2,
      "outputs": []
    },
    {
      "cell_type": "code",
      "metadata": {
        "id": "XfQzuacW6BLY",
        "outputId": "3d3cb8b6-343f-4aa7-c1c1-f10d83c8cd94",
        "colab": {
          "base_uri": "https://localhost:8080/"
        }
      },
      "source": [
        "for row_id, art in body.iterrows():\n",
        "  body['articleBody'][row_id] = art['articleBody'].replace('\\n','')\n",
        "for row_id, stan in stance.iterrows():\n",
        "  stance['Headline'][row_id] = stan['Headline'].replace('\\n','')"
      ],
      "execution_count": 3,
      "outputs": [
        {
          "output_type": "stream",
          "text": [
            "/usr/local/lib/python3.6/dist-packages/ipykernel_launcher.py:2: SettingWithCopyWarning: \n",
            "A value is trying to be set on a copy of a slice from a DataFrame\n",
            "\n",
            "See the caveats in the documentation: https://pandas.pydata.org/pandas-docs/stable/user_guide/indexing.html#returning-a-view-versus-a-copy\n",
            "  \n",
            "/usr/local/lib/python3.6/dist-packages/ipykernel_launcher.py:4: SettingWithCopyWarning: \n",
            "A value is trying to be set on a copy of a slice from a DataFrame\n",
            "\n",
            "See the caveats in the documentation: https://pandas.pydata.org/pandas-docs/stable/user_guide/indexing.html#returning-a-view-versus-a-copy\n",
            "  after removing the cwd from sys.path.\n"
          ],
          "name": "stderr"
        }
      ]
    },
    {
      "cell_type": "code",
      "metadata": {
        "id": "WMqtBPG16b79",
        "outputId": "207fa4fe-4c6e-4ec2-d80b-21705aabcabb",
        "colab": {
          "base_uri": "https://localhost:8080/"
        }
      },
      "source": [
        "stop_words = stopwords.words('english')\n",
        "w_tokenizer = nltk.tokenize.WhitespaceTokenizer()\n",
        "for row_id, art in body.iterrows():\n",
        "  body['articleBody'][row_id] = ' '.join([word for word in art['articleBody'].split() if word not in stop_words])\n",
        "for row_id, head in stance.iterrows():\n",
        "  stance['Headline'][row_id] = ' '.join([word for word in head['Headline'].split() if word not in stop_words])"
      ],
      "execution_count": 4,
      "outputs": [
        {
          "output_type": "stream",
          "text": [
            "/usr/local/lib/python3.6/dist-packages/ipykernel_launcher.py:4: SettingWithCopyWarning: \n",
            "A value is trying to be set on a copy of a slice from a DataFrame\n",
            "\n",
            "See the caveats in the documentation: https://pandas.pydata.org/pandas-docs/stable/user_guide/indexing.html#returning-a-view-versus-a-copy\n",
            "  after removing the cwd from sys.path.\n",
            "/usr/local/lib/python3.6/dist-packages/ipykernel_launcher.py:6: SettingWithCopyWarning: \n",
            "A value is trying to be set on a copy of a slice from a DataFrame\n",
            "\n",
            "See the caveats in the documentation: https://pandas.pydata.org/pandas-docs/stable/user_guide/indexing.html#returning-a-view-versus-a-copy\n",
            "  \n"
          ],
          "name": "stderr"
        }
      ]
    },
    {
      "cell_type": "code",
      "metadata": {
        "id": "DarDlVmL6foa",
        "outputId": "2cd40e80-2b14-41af-b491-ef810bbfc050",
        "colab": {
          "base_uri": "https://localhost:8080/"
        }
      },
      "source": [
        "lemmatizer = nltk.stem.WordNetLemmatizer()\n",
        "def lemmatize(text):\n",
        "  return [lemmatizer.lemmatize(word) for word in w_tokenizer.tokenize(text)]\n",
        "\n",
        "for row_id, art in body.iterrows():\n",
        "  body['articleBody'][row_id] = ' '.join(lemmatize(art['articleBody']))\n",
        "\n",
        "for row_id, head in stance.iterrows():\n",
        "  stance['Headline'][row_id] = ' '.join(lemmatize(head['Headline']))"
      ],
      "execution_count": 5,
      "outputs": [
        {
          "output_type": "stream",
          "text": [
            "/usr/local/lib/python3.6/dist-packages/ipykernel_launcher.py:6: SettingWithCopyWarning: \n",
            "A value is trying to be set on a copy of a slice from a DataFrame\n",
            "\n",
            "See the caveats in the documentation: https://pandas.pydata.org/pandas-docs/stable/user_guide/indexing.html#returning-a-view-versus-a-copy\n",
            "  \n",
            "/usr/local/lib/python3.6/dist-packages/ipykernel_launcher.py:9: SettingWithCopyWarning: \n",
            "A value is trying to be set on a copy of a slice from a DataFrame\n",
            "\n",
            "See the caveats in the documentation: https://pandas.pydata.org/pandas-docs/stable/user_guide/indexing.html#returning-a-view-versus-a-copy\n",
            "  if __name__ == '__main__':\n"
          ],
          "name": "stderr"
        }
      ]
    },
    {
      "cell_type": "code",
      "metadata": {
        "id": "R2PORhTf6pus",
        "outputId": "80e01137-4a60-4aa0-d8e8-f853f4305986",
        "colab": {
          "base_uri": "https://localhost:8080/"
        }
      },
      "source": [
        "for row_id, art in body.iterrows():\n",
        "  body['articleBody'][row_id] = art['articleBody'].lower()\n",
        "\n",
        "for row_id, head in stance.iterrows():\n",
        "  stance['Headline'][row_id] = head['Headline'].lower()"
      ],
      "execution_count": 6,
      "outputs": [
        {
          "output_type": "stream",
          "text": [
            "/usr/local/lib/python3.6/dist-packages/ipykernel_launcher.py:2: SettingWithCopyWarning: \n",
            "A value is trying to be set on a copy of a slice from a DataFrame\n",
            "\n",
            "See the caveats in the documentation: https://pandas.pydata.org/pandas-docs/stable/user_guide/indexing.html#returning-a-view-versus-a-copy\n",
            "  \n",
            "/usr/local/lib/python3.6/dist-packages/ipykernel_launcher.py:5: SettingWithCopyWarning: \n",
            "A value is trying to be set on a copy of a slice from a DataFrame\n",
            "\n",
            "See the caveats in the documentation: https://pandas.pydata.org/pandas-docs/stable/user_guide/indexing.html#returning-a-view-versus-a-copy\n",
            "  \"\"\"\n"
          ],
          "name": "stderr"
        }
      ]
    },
    {
      "cell_type": "code",
      "metadata": {
        "id": "1GYcGSP46vnZ"
      },
      "source": [
        "corpus = []\n",
        "for row_id, art in body.iterrows():\n",
        "  corpus.append(w_tokenizer.tokenize(art['articleBody']))\n",
        "\n",
        "for row_id, head in stance.iterrows():\n",
        "  corpus.append(w_tokenizer.tokenize(head['Headline']))"
      ],
      "execution_count": 7,
      "outputs": []
    },
    {
      "cell_type": "code",
      "metadata": {
        "id": "j8p6L5aN6-zG",
        "outputId": "ac6a184e-008f-44b2-ea93-d3ecea0f62ac",
        "colab": {
          "base_uri": "https://localhost:8080/"
        }
      },
      "source": [
        "pad_art = 180\n",
        "pad_head = 11\n",
        "for row_id, art in body.iterrows():\n",
        "  body['articleBody'][row_id] = ' '.join(w_tokenizer.tokenize(art['articleBody'])[:pad_art])\n",
        "\n",
        "for row_id, head in stance.iterrows():\n",
        "  stance['Headline'][row_id] = ' '.join(w_tokenizer.tokenize(head['Headline'])[:pad_head])"
      ],
      "execution_count": 8,
      "outputs": [
        {
          "output_type": "stream",
          "text": [
            "/usr/local/lib/python3.6/dist-packages/ipykernel_launcher.py:4: SettingWithCopyWarning: \n",
            "A value is trying to be set on a copy of a slice from a DataFrame\n",
            "\n",
            "See the caveats in the documentation: https://pandas.pydata.org/pandas-docs/stable/user_guide/indexing.html#returning-a-view-versus-a-copy\n",
            "  after removing the cwd from sys.path.\n",
            "/usr/local/lib/python3.6/dist-packages/ipykernel_launcher.py:7: SettingWithCopyWarning: \n",
            "A value is trying to be set on a copy of a slice from a DataFrame\n",
            "\n",
            "See the caveats in the documentation: https://pandas.pydata.org/pandas-docs/stable/user_guide/indexing.html#returning-a-view-versus-a-copy\n",
            "  import sys\n"
          ],
          "name": "stderr"
        }
      ]
    },
    {
      "cell_type": "code",
      "metadata": {
        "id": "-_4E8tqM7DPj",
        "outputId": "e8ef4384-3b45-46bf-d14a-4124a3ded24d",
        "colab": {
          "base_uri": "https://localhost:8080/"
        }
      },
      "source": [
        "model = Word2Vec(corpus, min_count = 1, size = 100, workers = 3, window = 3, iter = 30)\n",
        "def vectorize(text):\n",
        "  return [model[word] for word in w_tokenizer.tokenize(text)]\n",
        "\n",
        "art_vec = pd.Series([], dtype = float)\n",
        "for row_id, art in body.iterrows():\n",
        "  art_vec[row_id] = vectorize(art['articleBody'])\n",
        "\n",
        "head_vec = pd.Series([], dtype = float)\n",
        "for row_id, head in stance.iterrows():\n",
        "  head_vec[row_id] = vectorize(head['Headline'])\n",
        "\n",
        "pad_art_vec = keras.preprocessing.sequence.pad_sequences(art_vec, padding = 'post', maxlen = pad_art, dtype = float)\n",
        "pad_head_vec = keras.preprocessing.sequence.pad_sequences(head_vec, padding = 'post', maxlen = pad_head, dtype = float)\n",
        "pad_art_vec = pad_art_vec.tolist()\n",
        "pad_head_vec = pad_head_vec.tolist()"
      ],
      "execution_count": 9,
      "outputs": [
        {
          "output_type": "stream",
          "text": [
            "/usr/local/lib/python3.6/dist-packages/ipykernel_launcher.py:3: DeprecationWarning: Call to deprecated `__getitem__` (Method will be removed in 4.0.0, use self.wv.__getitem__() instead).\n",
            "  This is separate from the ipykernel package so we can avoid doing imports until\n"
          ],
          "name": "stderr"
        }
      ]
    },
    {
      "cell_type": "code",
      "metadata": {
        "id": "Zr05QQbV7fva"
      },
      "source": [
        "article_vector = pd.DataFrame()\n",
        "article_vector.insert(0, 'Body ID', body['Body ID'])\n",
        "article_vector.insert(1, 'art_Vectors', pad_art_vec)\n",
        "\n",
        "headline_vector = pd.DataFrame()\n",
        "headline_vector.insert(0, 'Body ID', stance['Body ID'])\n",
        "headline_vector.insert(1, 'head_Vectors', pad_head_vec)\n",
        "\n",
        "vectors = pd.merge(article_vector, headline_vector, left_on = 'Body ID', right_on = 'Body ID')"
      ],
      "execution_count": 10,
      "outputs": []
    },
    {
      "cell_type": "markdown",
      "metadata": {
        "id": "TS0jA2Hg_GI-"
      },
      "source": [
        "**Training and Testing**"
      ]
    },
    {
      "cell_type": "code",
      "metadata": {
        "id": "52BpkYdR8sm-"
      },
      "source": [
        "from tensorflow.keras.layers import Bidirectional, concatenate, Dense, Input, LSTM\n",
        "from keras.models import Model\n",
        "from google.colab import files\n",
        "import matplotlib.pyplot as plt"
      ],
      "execution_count": 11,
      "outputs": []
    },
    {
      "cell_type": "code",
      "metadata": {
        "id": "1q8MinBw_fh0"
      },
      "source": [
        "Stan_Id = pd.Series([], dtype = int)\n",
        "for row_id, stan in stance.iterrows():\n",
        "  if stan['Stance'] == 'unrelated':\n",
        "    Stan_Id[row_id] = 0\n",
        "  elif stan['Stance'] == 'agree':\n",
        "    Stan_Id[row_id] = 1\n",
        "  elif stan['Stance'] == 'disagree':\n",
        "    Stan_Id[row_id] = 2\n",
        "  elif stan['Stance'] == 'discuss':\n",
        "    Stan_Id[row_id] = 3\n",
        "\n",
        "vectors.insert(3, 'Stance ID', Stan_Id)"
      ],
      "execution_count": 12,
      "outputs": []
    },
    {
      "cell_type": "code",
      "metadata": {
        "id": "5zlxke9WQOmw"
      },
      "source": [
        "def data(vector):\n",
        "  x = pd.DataFrame()\n",
        "  y = pd.DataFrame()\n",
        "  x.insert(0, 'head', vector['head_Vectors'])\n",
        "  x.insert(1, 'art', vector['art_Vectors'])\n",
        "  y.insert(0, 'Stan_ID', vector['Stance ID'])\n",
        "  return x, y"
      ],
      "execution_count": 13,
      "outputs": []
    },
    {
      "cell_type": "code",
      "metadata": {
        "id": "N0j4SZpxPrVW"
      },
      "source": [
        "final_vector = vectors.iloc[0:30000]\n",
        "x_train, y_train = data(final_vector)"
      ],
      "execution_count": 14,
      "outputs": []
    },
    {
      "cell_type": "code",
      "metadata": {
        "id": "9dpTkOLFM9Dv"
      },
      "source": [
        "def train_lstm(pad_art, pad_head, art_train, head_train, stance_train):\n",
        "  x = Input(shape = (pad_head, 100))\n",
        "  y = Input(shape = (pad_art, 100))\n",
        "  head = Bidirectional(LSTM(50, dropout = 0.1, return_sequences = False))(x)\n",
        "  art = Bidirectional(LSTM(50, dropout = 0.1, return_sequences = False))(y)\n",
        "  tot = concatenate([head, art], axis = -1)\n",
        "  tot = Dense(16, activation='sigmoid')(tot)\n",
        "  total = Dense(5,activation='softmax')(tot)\n",
        "  model_lstm = Model(inputs = [x, y], outputs = total)\n",
        "  model_lstm.compile(loss='sparse_categorical_crossentropy', optimizer='adam', metrics=['accuracy'])\n",
        "\n",
        "  fitmodel = model_lstm.fit([head_train, art_train], stance_train, epochs = 20, verbose = 1, shuffle=False)\n",
        "  return fitmodel, fitmodel.history['accuracy']"
      ],
      "execution_count": 15,
      "outputs": []
    },
    {
      "cell_type": "code",
      "metadata": {
        "id": "duHa7BEZSOs_",
        "outputId": "f30c8995-4015-48b7-ec64-8825436da535",
        "colab": {
          "base_uri": "https://localhost:8080/"
        }
      },
      "source": [
        "head_train = tf.convert_to_tensor(x_train['head'].tolist())\n",
        "art_train = tf.convert_to_tensor(x_train['art'].tolist())\n",
        "stance_train = tf.convert_to_tensor(y_train)\n",
        "global_accuracy_list = []\n",
        "\n",
        "for n in range(1, 8):\n",
        "  print('Train roud:', n, '\\n\\n\\n')\n",
        "  mod, accuracy = train_lstm(pad_art, pad_head, art_train, head_train, stance_train)\n",
        "  print(mod)\n",
        "  print('\\n\\n\\n')\n",
        "  global_accuracy_list.append(accuracy)"
      ],
      "execution_count": 16,
      "outputs": [
        {
          "output_type": "stream",
          "text": [
            "Train roud: 1 \n",
            "\n",
            "\n",
            "\n",
            "Epoch 1/20\n",
            "938/938 [==============================] - 18s 19ms/step - loss: 0.8265 - accuracy: 0.7215\n",
            "Epoch 2/20\n",
            "938/938 [==============================] - 17s 18ms/step - loss: 0.7999 - accuracy: 0.7314\n",
            "Epoch 3/20\n",
            "938/938 [==============================] - 18s 19ms/step - loss: 0.7986 - accuracy: 0.7314\n",
            "Epoch 4/20\n",
            "938/938 [==============================] - 17s 19ms/step - loss: 0.7955 - accuracy: 0.7314\n",
            "Epoch 5/20\n",
            "938/938 [==============================] - 17s 19ms/step - loss: 0.7898 - accuracy: 0.7316\n",
            "Epoch 6/20\n",
            "938/938 [==============================] - 18s 19ms/step - loss: 0.7829 - accuracy: 0.7318\n",
            "Epoch 7/20\n",
            "938/938 [==============================] - 17s 18ms/step - loss: 0.7750 - accuracy: 0.7322\n",
            "Epoch 8/20\n",
            "938/938 [==============================] - 18s 19ms/step - loss: 0.7671 - accuracy: 0.7330\n",
            "Epoch 9/20\n",
            "938/938 [==============================] - 17s 19ms/step - loss: 0.7591 - accuracy: 0.7341\n",
            "Epoch 10/20\n",
            "938/938 [==============================] - 18s 19ms/step - loss: 0.7525 - accuracy: 0.7350\n",
            "Epoch 11/20\n",
            "938/938 [==============================] - 18s 19ms/step - loss: 0.7449 - accuracy: 0.7356\n",
            "Epoch 12/20\n",
            "938/938 [==============================] - 18s 19ms/step - loss: 0.7380 - accuracy: 0.7366\n",
            "Epoch 13/20\n",
            "938/938 [==============================] - 18s 19ms/step - loss: 0.7312 - accuracy: 0.7369\n",
            "Epoch 14/20\n",
            "938/938 [==============================] - 17s 19ms/step - loss: 0.7256 - accuracy: 0.7391\n",
            "Epoch 15/20\n",
            "938/938 [==============================] - 17s 18ms/step - loss: 0.7172 - accuracy: 0.7395\n",
            "Epoch 16/20\n",
            "938/938 [==============================] - 18s 19ms/step - loss: 0.7127 - accuracy: 0.7413\n",
            "Epoch 17/20\n",
            "938/938 [==============================] - 18s 19ms/step - loss: 0.7071 - accuracy: 0.7421\n",
            "Epoch 18/20\n",
            "938/938 [==============================] - 18s 19ms/step - loss: 0.7020 - accuracy: 0.7438\n",
            "Epoch 19/20\n",
            "938/938 [==============================] - 18s 19ms/step - loss: 0.6948 - accuracy: 0.7447\n",
            "Epoch 20/20\n",
            "938/938 [==============================] - 18s 19ms/step - loss: 0.6903 - accuracy: 0.7451\n",
            "<tensorflow.python.keras.callbacks.History object at 0x7f8fd0aec668>\n",
            "\n",
            "\n",
            "\n",
            "\n",
            "Train roud: 2 \n",
            "\n",
            "\n",
            "\n",
            "Epoch 1/20\n",
            "938/938 [==============================] - 18s 19ms/step - loss: 0.8288 - accuracy: 0.7258\n",
            "Epoch 2/20\n",
            "938/938 [==============================] - 17s 18ms/step - loss: 0.7993 - accuracy: 0.7314\n",
            "Epoch 3/20\n",
            "938/938 [==============================] - 18s 20ms/step - loss: 0.7946 - accuracy: 0.7314\n",
            "Epoch 4/20\n",
            "938/938 [==============================] - 18s 19ms/step - loss: 0.7877 - accuracy: 0.7314\n",
            "Epoch 5/20\n",
            "938/938 [==============================] - 18s 19ms/step - loss: 0.7798 - accuracy: 0.7315\n",
            "Epoch 6/20\n",
            "938/938 [==============================] - 18s 19ms/step - loss: 0.7709 - accuracy: 0.7316\n",
            "Epoch 7/20\n",
            "938/938 [==============================] - 18s 19ms/step - loss: 0.7614 - accuracy: 0.7317\n",
            "Epoch 8/20\n",
            "938/938 [==============================] - 18s 19ms/step - loss: 0.7532 - accuracy: 0.7325\n",
            "Epoch 9/20\n",
            "938/938 [==============================] - 17s 19ms/step - loss: 0.7460 - accuracy: 0.7331\n",
            "Epoch 10/20\n",
            "938/938 [==============================] - 17s 18ms/step - loss: 0.7395 - accuracy: 0.7332\n",
            "Epoch 11/20\n",
            "938/938 [==============================] - 18s 19ms/step - loss: 0.7339 - accuracy: 0.7342\n",
            "Epoch 12/20\n",
            "938/938 [==============================] - 18s 19ms/step - loss: 0.7278 - accuracy: 0.7346\n",
            "Epoch 13/20\n",
            "938/938 [==============================] - 18s 19ms/step - loss: 0.7219 - accuracy: 0.7354\n",
            "Epoch 14/20\n",
            "938/938 [==============================] - 18s 19ms/step - loss: 0.7161 - accuracy: 0.7350\n",
            "Epoch 15/20\n",
            "938/938 [==============================] - 17s 18ms/step - loss: 0.7104 - accuracy: 0.7375\n",
            "Epoch 16/20\n",
            "938/938 [==============================] - 18s 19ms/step - loss: 0.7052 - accuracy: 0.7379\n",
            "Epoch 17/20\n",
            "938/938 [==============================] - 18s 19ms/step - loss: 0.6989 - accuracy: 0.7400\n",
            "Epoch 18/20\n",
            "938/938 [==============================] - 18s 19ms/step - loss: 0.6933 - accuracy: 0.7403\n",
            "Epoch 19/20\n",
            "938/938 [==============================] - 17s 18ms/step - loss: 0.6880 - accuracy: 0.7422\n",
            "Epoch 20/20\n",
            "938/938 [==============================] - 17s 19ms/step - loss: 0.6818 - accuracy: 0.7423\n",
            "<tensorflow.python.keras.callbacks.History object at 0x7f9263c2be48>\n",
            "\n",
            "\n",
            "\n",
            "\n",
            "Train roud: 3 \n",
            "\n",
            "\n",
            "\n",
            "Epoch 1/20\n",
            "938/938 [==============================] - 18s 19ms/step - loss: 0.8473 - accuracy: 0.7249\n",
            "Epoch 2/20\n",
            "938/938 [==============================] - 17s 19ms/step - loss: 0.8023 - accuracy: 0.7314\n",
            "Epoch 3/20\n",
            "938/938 [==============================] - 17s 18ms/step - loss: 0.7978 - accuracy: 0.7314\n",
            "Epoch 4/20\n",
            "938/938 [==============================] - 17s 18ms/step - loss: 0.7920 - accuracy: 0.7314\n",
            "Epoch 5/20\n",
            "938/938 [==============================] - 18s 19ms/step - loss: 0.7830 - accuracy: 0.7316\n",
            "Epoch 6/20\n",
            "938/938 [==============================] - 18s 19ms/step - loss: 0.7734 - accuracy: 0.7316\n",
            "Epoch 7/20\n",
            "938/938 [==============================] - 18s 19ms/step - loss: 0.7646 - accuracy: 0.7314\n",
            "Epoch 8/20\n",
            "938/938 [==============================] - 17s 18ms/step - loss: 0.7566 - accuracy: 0.7327\n",
            "Epoch 9/20\n",
            "938/938 [==============================] - 17s 18ms/step - loss: 0.7481 - accuracy: 0.7333\n",
            "Epoch 10/20\n",
            "938/938 [==============================] - 18s 19ms/step - loss: 0.7391 - accuracy: 0.7348\n",
            "Epoch 11/20\n",
            "938/938 [==============================] - 18s 19ms/step - loss: 0.7323 - accuracy: 0.7346\n",
            "Epoch 12/20\n",
            "938/938 [==============================] - 17s 19ms/step - loss: 0.7257 - accuracy: 0.7351\n",
            "Epoch 13/20\n",
            "938/938 [==============================] - 17s 18ms/step - loss: 0.7163 - accuracy: 0.7365\n",
            "Epoch 14/20\n",
            "938/938 [==============================] - 18s 19ms/step - loss: 0.7111 - accuracy: 0.7384\n",
            "Epoch 15/20\n",
            "938/938 [==============================] - 18s 19ms/step - loss: 0.7053 - accuracy: 0.7387\n",
            "Epoch 16/20\n",
            "938/938 [==============================] - 17s 19ms/step - loss: 0.6975 - accuracy: 0.7402\n",
            "Epoch 17/20\n",
            "938/938 [==============================] - 18s 19ms/step - loss: 0.6912 - accuracy: 0.7416\n",
            "Epoch 18/20\n",
            "938/938 [==============================] - 18s 19ms/step - loss: 0.6838 - accuracy: 0.7439\n",
            "Epoch 19/20\n",
            "938/938 [==============================] - 18s 19ms/step - loss: 0.6784 - accuracy: 0.7455\n",
            "Epoch 20/20\n",
            "938/938 [==============================] - 18s 19ms/step - loss: 0.6723 - accuracy: 0.7466\n",
            "<tensorflow.python.keras.callbacks.History object at 0x7f92622c8fd0>\n",
            "\n",
            "\n",
            "\n",
            "\n",
            "Train roud: 4 \n",
            "\n",
            "\n",
            "\n",
            "Epoch 1/20\n",
            "938/938 [==============================] - 18s 19ms/step - loss: 0.8144 - accuracy: 0.7308\n",
            "Epoch 2/20\n",
            "938/938 [==============================] - 18s 19ms/step - loss: 0.7976 - accuracy: 0.7314\n",
            "Epoch 3/20\n",
            "938/938 [==============================] - 18s 19ms/step - loss: 0.7917 - accuracy: 0.7314\n",
            "Epoch 4/20\n",
            "938/938 [==============================] - 18s 19ms/step - loss: 0.7830 - accuracy: 0.7315\n",
            "Epoch 5/20\n",
            "938/938 [==============================] - 18s 19ms/step - loss: 0.7734 - accuracy: 0.7316\n",
            "Epoch 6/20\n",
            "938/938 [==============================] - 18s 19ms/step - loss: 0.7640 - accuracy: 0.7320\n",
            "Epoch 7/20\n",
            "938/938 [==============================] - 18s 19ms/step - loss: 0.7547 - accuracy: 0.7323\n",
            "Epoch 8/20\n",
            "938/938 [==============================] - 17s 19ms/step - loss: 0.7472 - accuracy: 0.7330\n",
            "Epoch 9/20\n",
            "938/938 [==============================] - 17s 18ms/step - loss: 0.7396 - accuracy: 0.7338\n",
            "Epoch 10/20\n",
            "938/938 [==============================] - 17s 18ms/step - loss: 0.7329 - accuracy: 0.7339\n",
            "Epoch 11/20\n",
            "938/938 [==============================] - 17s 18ms/step - loss: 0.7272 - accuracy: 0.7340\n",
            "Epoch 12/20\n",
            "938/938 [==============================] - 17s 19ms/step - loss: 0.7197 - accuracy: 0.7361\n",
            "Epoch 13/20\n",
            "938/938 [==============================] - 18s 19ms/step - loss: 0.7135 - accuracy: 0.7364\n",
            "Epoch 14/20\n",
            "938/938 [==============================] - 18s 19ms/step - loss: 0.7098 - accuracy: 0.7374\n",
            "Epoch 15/20\n",
            "938/938 [==============================] - 18s 19ms/step - loss: 0.7043 - accuracy: 0.7378\n",
            "Epoch 16/20\n",
            "938/938 [==============================] - 18s 19ms/step - loss: 0.6976 - accuracy: 0.7397\n",
            "Epoch 17/20\n",
            "938/938 [==============================] - 17s 18ms/step - loss: 0.6930 - accuracy: 0.7390\n",
            "Epoch 18/20\n",
            "938/938 [==============================] - 18s 19ms/step - loss: 0.6871 - accuracy: 0.7420\n",
            "Epoch 19/20\n",
            "938/938 [==============================] - 18s 19ms/step - loss: 0.6807 - accuracy: 0.7431\n",
            "Epoch 20/20\n",
            "938/938 [==============================] - 18s 19ms/step - loss: 0.6751 - accuracy: 0.7459\n",
            "<tensorflow.python.keras.callbacks.History object at 0x7f8fcc6b6fd0>\n",
            "\n",
            "\n",
            "\n",
            "\n",
            "Train roud: 5 \n",
            "\n",
            "\n",
            "\n",
            "Epoch 1/20\n",
            "938/938 [==============================] - 18s 19ms/step - loss: 0.8165 - accuracy: 0.7314\n",
            "Epoch 2/20\n",
            "938/938 [==============================] - 18s 19ms/step - loss: 0.8003 - accuracy: 0.7314\n",
            "Epoch 3/20\n",
            "938/938 [==============================] - 18s 19ms/step - loss: 0.7984 - accuracy: 0.7314\n",
            "Epoch 4/20\n",
            "938/938 [==============================] - 18s 19ms/step - loss: 0.7932 - accuracy: 0.7314\n",
            "Epoch 5/20\n",
            "938/938 [==============================] - 18s 19ms/step - loss: 0.7833 - accuracy: 0.7316\n",
            "Epoch 6/20\n",
            "938/938 [==============================] - 18s 19ms/step - loss: 0.7739 - accuracy: 0.7317\n",
            "Epoch 7/20\n",
            "938/938 [==============================] - 18s 19ms/step - loss: 0.7639 - accuracy: 0.7322\n",
            "Epoch 8/20\n",
            "938/938 [==============================] - 18s 19ms/step - loss: 0.7557 - accuracy: 0.7323\n",
            "Epoch 9/20\n",
            "938/938 [==============================] - 18s 19ms/step - loss: 0.7465 - accuracy: 0.7331\n",
            "Epoch 10/20\n",
            "938/938 [==============================] - 18s 19ms/step - loss: 0.7378 - accuracy: 0.7336\n",
            "Epoch 11/20\n",
            "938/938 [==============================] - 18s 19ms/step - loss: 0.7302 - accuracy: 0.7352\n",
            "Epoch 12/20\n",
            "938/938 [==============================] - 18s 19ms/step - loss: 0.7218 - accuracy: 0.7351\n",
            "Epoch 13/20\n",
            "938/938 [==============================] - 18s 19ms/step - loss: 0.7153 - accuracy: 0.7363\n",
            "Epoch 14/20\n",
            "938/938 [==============================] - 18s 20ms/step - loss: 0.7082 - accuracy: 0.7375\n",
            "Epoch 15/20\n",
            "938/938 [==============================] - 18s 20ms/step - loss: 0.7025 - accuracy: 0.7384\n",
            "Epoch 16/20\n",
            "938/938 [==============================] - 18s 19ms/step - loss: 0.6961 - accuracy: 0.7402\n",
            "Epoch 17/20\n",
            "938/938 [==============================] - 18s 19ms/step - loss: 0.6905 - accuracy: 0.7415\n",
            "Epoch 18/20\n",
            "938/938 [==============================] - 19s 20ms/step - loss: 0.6820 - accuracy: 0.7437\n",
            "Epoch 19/20\n",
            "938/938 [==============================] - 18s 19ms/step - loss: 0.6749 - accuracy: 0.7451\n",
            "Epoch 20/20\n",
            "938/938 [==============================] - 18s 19ms/step - loss: 0.6672 - accuracy: 0.7479\n",
            "<tensorflow.python.keras.callbacks.History object at 0x7f8fcfe7f128>\n",
            "\n",
            "\n",
            "\n",
            "\n",
            "Train roud: 6 \n",
            "\n",
            "\n",
            "\n",
            "Epoch 1/20\n",
            "938/938 [==============================] - 18s 20ms/step - loss: 0.8327 - accuracy: 0.7193\n",
            "Epoch 2/20\n",
            "938/938 [==============================] - 18s 19ms/step - loss: 0.7987 - accuracy: 0.7314\n",
            "Epoch 3/20\n",
            "938/938 [==============================] - 18s 19ms/step - loss: 0.7959 - accuracy: 0.7314\n",
            "Epoch 4/20\n",
            "938/938 [==============================] - 18s 19ms/step - loss: 0.7917 - accuracy: 0.7314\n",
            "Epoch 5/20\n",
            "938/938 [==============================] - 18s 19ms/step - loss: 0.7851 - accuracy: 0.7316\n",
            "Epoch 6/20\n",
            "938/938 [==============================] - 18s 19ms/step - loss: 0.7773 - accuracy: 0.7321\n",
            "Epoch 7/20\n",
            "938/938 [==============================] - 18s 20ms/step - loss: 0.7691 - accuracy: 0.7320\n",
            "Epoch 8/20\n",
            "938/938 [==============================] - 19s 20ms/step - loss: 0.7621 - accuracy: 0.7327\n",
            "Epoch 9/20\n",
            "938/938 [==============================] - 19s 20ms/step - loss: 0.7534 - accuracy: 0.7319\n",
            "Epoch 10/20\n",
            "938/938 [==============================] - 18s 19ms/step - loss: 0.7464 - accuracy: 0.7329\n",
            "Epoch 11/20\n",
            "938/938 [==============================] - 18s 20ms/step - loss: 0.7398 - accuracy: 0.7331\n",
            "Epoch 12/20\n",
            "938/938 [==============================] - 19s 20ms/step - loss: 0.7332 - accuracy: 0.7339\n",
            "Epoch 13/20\n",
            "938/938 [==============================] - 19s 20ms/step - loss: 0.7260 - accuracy: 0.7358\n",
            "Epoch 14/20\n",
            "938/938 [==============================] - 19s 20ms/step - loss: 0.7201 - accuracy: 0.7358\n",
            "Epoch 15/20\n",
            "938/938 [==============================] - 19s 20ms/step - loss: 0.7162 - accuracy: 0.7367\n",
            "Epoch 16/20\n",
            "938/938 [==============================] - 19s 20ms/step - loss: 0.7099 - accuracy: 0.7373\n",
            "Epoch 17/20\n",
            "938/938 [==============================] - 19s 20ms/step - loss: 0.7053 - accuracy: 0.7387\n",
            "Epoch 18/20\n",
            "938/938 [==============================] - 19s 20ms/step - loss: 0.6968 - accuracy: 0.7415\n",
            "Epoch 19/20\n",
            "938/938 [==============================] - 19s 21ms/step - loss: 0.6939 - accuracy: 0.7417\n",
            "Epoch 20/20\n",
            "938/938 [==============================] - 19s 20ms/step - loss: 0.6869 - accuracy: 0.7429\n",
            "<tensorflow.python.keras.callbacks.History object at 0x7f8fab515748>\n",
            "\n",
            "\n",
            "\n",
            "\n",
            "Train roud: 7 \n",
            "\n",
            "\n",
            "\n",
            "Epoch 1/20\n",
            "938/938 [==============================] - 19s 20ms/step - loss: 0.8274 - accuracy: 0.7220\n",
            "Epoch 2/20\n",
            "938/938 [==============================] - 19s 20ms/step - loss: 0.7995 - accuracy: 0.7314\n",
            "Epoch 3/20\n",
            "938/938 [==============================] - 19s 20ms/step - loss: 0.7966 - accuracy: 0.7314\n",
            "Epoch 4/20\n",
            "938/938 [==============================] - 19s 20ms/step - loss: 0.7921 - accuracy: 0.7314\n",
            "Epoch 5/20\n",
            "938/938 [==============================] - 19s 21ms/step - loss: 0.7853 - accuracy: 0.7314\n",
            "Epoch 6/20\n",
            "938/938 [==============================] - 18s 20ms/step - loss: 0.7767 - accuracy: 0.7318\n",
            "Epoch 7/20\n",
            "938/938 [==============================] - 19s 20ms/step - loss: 0.7678 - accuracy: 0.7320\n",
            "Epoch 8/20\n",
            "938/938 [==============================] - 19s 20ms/step - loss: 0.7582 - accuracy: 0.7330\n",
            "Epoch 9/20\n",
            "938/938 [==============================] - 19s 20ms/step - loss: 0.7495 - accuracy: 0.7327\n",
            "Epoch 10/20\n",
            "938/938 [==============================] - 19s 20ms/step - loss: 0.7424 - accuracy: 0.7341\n",
            "Epoch 11/20\n",
            "938/938 [==============================] - 18s 20ms/step - loss: 0.7356 - accuracy: 0.7349\n",
            "Epoch 12/20\n",
            "938/938 [==============================] - 18s 20ms/step - loss: 0.7286 - accuracy: 0.7345\n",
            "Epoch 13/20\n",
            "938/938 [==============================] - 19s 20ms/step - loss: 0.7221 - accuracy: 0.7358\n",
            "Epoch 14/20\n",
            "938/938 [==============================] - 19s 20ms/step - loss: 0.7181 - accuracy: 0.7364\n",
            "Epoch 15/20\n",
            "938/938 [==============================] - 18s 20ms/step - loss: 0.7123 - accuracy: 0.7373\n",
            "Epoch 16/20\n",
            "938/938 [==============================] - 19s 20ms/step - loss: 0.7053 - accuracy: 0.7381\n",
            "Epoch 17/20\n",
            "938/938 [==============================] - 19s 20ms/step - loss: 0.6990 - accuracy: 0.7385\n",
            "Epoch 18/20\n",
            "938/938 [==============================] - 18s 20ms/step - loss: 0.6944 - accuracy: 0.7408\n",
            "Epoch 19/20\n",
            "938/938 [==============================] - 19s 20ms/step - loss: 0.6884 - accuracy: 0.7419\n",
            "Epoch 20/20\n",
            "938/938 [==============================] - 19s 20ms/step - loss: 0.6837 - accuracy: 0.7425\n",
            "<tensorflow.python.keras.callbacks.History object at 0x7f8fa9431f28>\n",
            "\n",
            "\n",
            "\n",
            "\n"
          ],
          "name": "stdout"
        }
      ]
    },
    {
      "cell_type": "code",
      "metadata": {
        "id": "ssv_VQZ3pWsF",
        "outputId": "3c5511fa-740d-4bc8-d540-a476bc0f132f",
        "colab": {
          "base_uri": "https://localhost:8080/",
          "height": 265
        }
      },
      "source": [
        "y = np.average(global_accuracy_list, axis = 0)\n",
        "\n",
        "plt.plot(y, color = 'r')\n",
        "plt.xticks(ticks=np.arange(0,20), labels=np.arange(1,21))\n",
        "plt.show()"
      ],
      "execution_count": 17,
      "outputs": [
        {
          "output_type": "display_data",
          "data": {
            "image/png": "[encoded data removed]",
            "text/plain": [
              "<Figure size 432x288 with 1 Axes>"
            ]
          },
          "metadata": {
            "tags": [],
            "needs_background": "light"
          }
        }
      ]
    },
    {
      "cell_type": "code",
      "metadata": {
        "id": "mV_9-DegeAkZ",
        "outputId": "0c69aefd-3357-4d14-8a82-bbc86fe4024d",
        "colab": {
          "base_uri": "https://localhost:8080/",
          "height": 689
        }
      },
      "source": [
        "x = Input(shape = (pad_head, 100))\n",
        "y = Input(shape = (pad_art, 100))\n",
        "head = Bidirectional(LSTM(50, dropout = 0.5, return_sequences = False))(x)\n",
        "art = Bidirectional(LSTM(50, dropout = 0.5, return_sequences = False))(y)\n",
        "tot = concatenate([head, art], axis = -1)\n",
        "tot = Dense(16, activation='sigmoid')(tot)\n",
        "total = Dense(5,activation='softmax')(tot)\n",
        "model_lstm = Model(inputs = [x, y], outputs = total)\n",
        "model_lstm.compile(loss='sparse_categorical_crossentropy', optimizer='adam', metrics=['accuracy'])\n",
        "\n",
        "fitmodel = model_lstm.fit([head_train, art_train], stance_train, epochs = 20, verbose = 1, shuffle=False)\n",
        "\n",
        "model_lstm.save('model_lstm.h5')\n",
        "files.download('model_lstm.h5')"
      ],
      "execution_count": 18,
      "outputs": [
        {
          "output_type": "stream",
          "text": [
            "Epoch 1/20\n",
            "938/938 [==============================] - 19s 20ms/step - loss: 0.8537 - accuracy: 0.7160\n",
            "Epoch 2/20\n",
            "938/938 [==============================] - 19s 21ms/step - loss: 0.8025 - accuracy: 0.7314\n",
            "Epoch 3/20\n",
            "938/938 [==============================] - 18s 20ms/step - loss: 0.7985 - accuracy: 0.7314\n",
            "Epoch 4/20\n",
            "938/938 [==============================] - 19s 20ms/step - loss: 0.7966 - accuracy: 0.7314\n",
            "Epoch 5/20\n",
            "938/938 [==============================] - 19s 20ms/step - loss: 0.7933 - accuracy: 0.7314\n",
            "Epoch 6/20\n",
            "938/938 [==============================] - 20s 21ms/step - loss: 0.7909 - accuracy: 0.7314\n",
            "Epoch 7/20\n",
            "938/938 [==============================] - 19s 20ms/step - loss: 0.7883 - accuracy: 0.7316\n",
            "Epoch 8/20\n",
            "938/938 [==============================] - 19s 20ms/step - loss: 0.7867 - accuracy: 0.7314\n",
            "Epoch 9/20\n",
            "938/938 [==============================] - 19s 20ms/step - loss: 0.7845 - accuracy: 0.7313\n",
            "Epoch 10/20\n",
            "938/938 [==============================] - 19s 20ms/step - loss: 0.7811 - accuracy: 0.7315\n",
            "Epoch 11/20\n",
            "938/938 [==============================] - 19s 20ms/step - loss: 0.7784 - accuracy: 0.7314\n",
            "Epoch 12/20\n",
            "938/938 [==============================] - 19s 20ms/step - loss: 0.7767 - accuracy: 0.7313\n",
            "Epoch 13/20\n",
            "938/938 [==============================] - 19s 20ms/step - loss: 0.7751 - accuracy: 0.7317\n",
            "Epoch 14/20\n",
            "938/938 [==============================] - 19s 20ms/step - loss: 0.7723 - accuracy: 0.7316\n",
            "Epoch 15/20\n",
            "938/938 [==============================] - 19s 20ms/step - loss: 0.7719 - accuracy: 0.7316\n",
            "Epoch 16/20\n",
            "938/938 [==============================] - 19s 20ms/step - loss: 0.7699 - accuracy: 0.7316\n",
            "Epoch 17/20\n",
            "938/938 [==============================] - 19s 20ms/step - loss: 0.7692 - accuracy: 0.7323\n",
            "Epoch 18/20\n",
            "938/938 [==============================] - 19s 21ms/step - loss: 0.7673 - accuracy: 0.7317\n",
            "Epoch 19/20\n",
            "938/938 [==============================] - 19s 20ms/step - loss: 0.7642 - accuracy: 0.7320\n",
            "Epoch 20/20\n",
            "938/938 [==============================] - 19s 20ms/step - loss: 0.7638 - accuracy: 0.7319\n"
          ],
          "name": "stdout"
        },
        {
          "output_type": "display_data",
          "data": {
            "application/javascript": [
              "\n",
              "    async function download(id, filename, size) {\n",
              "      if (!google.colab.kernel.accessAllowed) {\n",
              "        return;\n",
              "      }\n",
              "      const div = document.createElement('div');\n",
              "      const label = document.createElement('label');\n",
              "      label.textContent = `Downloading \"${filename}\": `;\n",
              "      div.appendChild(label);\n",
              "      const progress = document.createElement('progress');\n",
              "      progress.max = size;\n",
              "      div.appendChild(progress);\n",
              "      document.body.appendChild(div);\n",
              "\n",
              "      const buffers = [];\n",
              "      let downloaded = 0;\n",
              "\n",
              "      const channel = await google.colab.kernel.comms.open(id);\n",
              "      // Send a message to notify the kernel that we're ready.\n",
              "      channel.send({})\n",
              "\n",
              "      for await (const message of channel.messages) {\n",
              "        // Send a message to notify the kernel that we're ready.\n",
              "        channel.send({})\n",
              "        if (message.buffers) {\n",
              "          for (const buffer of message.buffers) {\n",
              "            buffers.push(buffer);\n",
              "            downloaded += buffer.byteLength;\n",
              "            progress.value = downloaded;\n",
              "          }\n",
              "        }\n",
              "      }\n",
              "      const blob = new Blob(buffers, {type: 'application/binary'});\n",
              "      const a = document.createElement('a');\n",
              "      a.href = window.URL.createObjectURL(blob);\n",
              "      a.download = filename;\n",
              "      div.appendChild(a);\n",
              "      a.click();\n",
              "      div.remove();\n",
              "    }\n",
              "  "
            ],
            "text/plain": [
              "<IPython.core.display.Javascript object>"
            ]
          },
          "metadata": {
            "tags": []
          }
        },
        {
          "output_type": "display_data",
          "data": {
            "application/javascript": [
              "download(\"download_adea0122-25a2-4586-8845-2b4ed9b69682\", \"model_lstm.h5\", 1568640)"
            ],
            "text/plain": [
              "<IPython.core.display.Javascript object>"
            ]
          },
          "metadata": {
            "tags": []
          }
        }
      ]
    }
  ]
}