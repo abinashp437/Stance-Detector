{
  "nbformat": 4,
  "nbformat_minor": 0,
  "metadata": {
    "colab": {
      "name": "lstm_fnc.ipynb",
      "provenance": [],
      "collapsed_sections": [],
      "authorship_tag": "ABX9TyPFHKz1v3joo+jtC9otoN3S",
      "include_colab_link": true
    },
    "kernelspec": {
      "name": "python3",
      "display_name": "Python 3"
    },
    "accelerator": "GPU"
  },
  "cells": [
    {
      "cell_type": "markdown",
      "metadata": {
        "id": "view-in-github",
        "colab_type": "text"
      },
      "source": [
        "<a href=\"https://colab.research.google.com/github/abinashp437/Stance_Detection_FNC_1/blob/main/lstm_fnc.ipynb\" target=\"_parent\"><img src=\"https://colab.research.google.com/assets/colab-badge.svg\" alt=\"Open In Colab\"/></a>"
      ]
    },
    {
      "cell_type": "code",
      "metadata": {
        "id": "-UmDW7oZ1i9_",
        "outputId": "83cf2c18-a0b6-4129-f3d9-1153fdee7370",
        "colab": {
          "base_uri": "https://localhost:8080/"
        }
      },
      "source": [
        "%tensorflow_version 2.x\n",
        "import pandas as pd\n",
        "import numpy as np\n",
        "import nltk\n",
        "nltk.download('stopwords') #for stopword removal\n",
        "nltk.download('wordnet') #for lemmatisation\n",
        "from nltk.corpus import stopwords\n",
        "from gensim.models import Word2Vec\n",
        "import tensorflow as tf\n",
        "from tensorflow import keras\n",
        "from google.colab import files\n"
      ],
      "execution_count": 1,
      "outputs": [
        {
          "output_type": "stream",
          "text": [
            "[nltk_data] Downloading package stopwords to /root/nltk_data...\n",
            "[nltk_data]   Package stopwords is already up-to-date!\n",
            "[nltk_data] Downloading package wordnet to /root/nltk_data...\n",
            "[nltk_data]   Package wordnet is already up-to-date!\n"
          ],
          "name": "stdout"
        }
      ]
    },
    {
      "cell_type": "code",
      "metadata": {
        "id": "dQlrw8Js5tEp"
      },
      "source": [
        "body_url = \"https://raw.githubusercontent.com/abinashp437/Stance_Detection_FNC_1/main/fnc_1_data/train_bodies.csv\"\n",
        "body = pd.read_csv(body_url)\n",
        "stance_url = \"https://raw.githubusercontent.com/abinashp437/Stance_Detection_FNC_1/main/fnc_1_data/train_stances.csv\"\n",
        "stance = pd.read_csv(stance_url)"
      ],
      "execution_count": 2,
      "outputs": []
    },
    {
      "cell_type": "code",
      "metadata": {
        "id": "XfQzuacW6BLY",
        "outputId": "e92056f6-ee22-419d-f47a-03540a331249",
        "colab": {
          "base_uri": "https://localhost:8080/"
        }
      },
      "source": [
        "for row_id, art in body.iterrows():\n",
        "  body['articleBody'][row_id] = art['articleBody'].replace('\\n','')\n",
        "for row_id, stan in stance.iterrows():\n",
        "  stance['Headline'][row_id] = stan['Headline'].replace('\\n','')"
      ],
      "execution_count": 3,
      "outputs": [
        {
          "output_type": "stream",
          "text": [
            "/usr/local/lib/python3.6/dist-packages/ipykernel_launcher.py:2: SettingWithCopyWarning: \n",
            "A value is trying to be set on a copy of a slice from a DataFrame\n",
            "\n",
            "See the caveats in the documentation: https://pandas.pydata.org/pandas-docs/stable/user_guide/indexing.html#returning-a-view-versus-a-copy\n",
            "  \n",
            "/usr/local/lib/python3.6/dist-packages/ipykernel_launcher.py:4: SettingWithCopyWarning: \n",
            "A value is trying to be set on a copy of a slice from a DataFrame\n",
            "\n",
            "See the caveats in the documentation: https://pandas.pydata.org/pandas-docs/stable/user_guide/indexing.html#returning-a-view-versus-a-copy\n",
            "  after removing the cwd from sys.path.\n"
          ],
          "name": "stderr"
        }
      ]
    },
    {
      "cell_type": "code",
      "metadata": {
        "id": "WMqtBPG16b79",
        "outputId": "3804132e-d713-49fe-bccc-5ccfde9cc9b6",
        "colab": {
          "base_uri": "https://localhost:8080/"
        }
      },
      "source": [
        "stop_words = stopwords.words('english')\n",
        "w_tokenizer = nltk.tokenize.WhitespaceTokenizer()\n",
        "for row_id, art in body.iterrows():\n",
        "  body['articleBody'][row_id] = ' '.join([word for word in art['articleBody'].split() if word not in stop_words])\n",
        "for row_id, head in stance.iterrows():\n",
        "  stance['Headline'][row_id] = ' '.join([word for word in head['Headline'].split() if word not in stop_words])"
      ],
      "execution_count": 4,
      "outputs": [
        {
          "output_type": "stream",
          "text": [
            "/usr/local/lib/python3.6/dist-packages/ipykernel_launcher.py:4: SettingWithCopyWarning: \n",
            "A value is trying to be set on a copy of a slice from a DataFrame\n",
            "\n",
            "See the caveats in the documentation: https://pandas.pydata.org/pandas-docs/stable/user_guide/indexing.html#returning-a-view-versus-a-copy\n",
            "  after removing the cwd from sys.path.\n",
            "/usr/local/lib/python3.6/dist-packages/ipykernel_launcher.py:6: SettingWithCopyWarning: \n",
            "A value is trying to be set on a copy of a slice from a DataFrame\n",
            "\n",
            "See the caveats in the documentation: https://pandas.pydata.org/pandas-docs/stable/user_guide/indexing.html#returning-a-view-versus-a-copy\n",
            "  \n"
          ],
          "name": "stderr"
        }
      ]
    },
    {
      "cell_type": "code",
      "metadata": {
        "id": "DarDlVmL6foa",
        "outputId": "f6b3f620-ae53-4a4c-c3f3-d9e9e8d9c902",
        "colab": {
          "base_uri": "https://localhost:8080/"
        }
      },
      "source": [
        "lemmatizer = nltk.stem.WordNetLemmatizer()\n",
        "def lemmatize(text):\n",
        "  return [lemmatizer.lemmatize(word) for word in w_tokenizer.tokenize(text)]\n",
        "\n",
        "for row_id, art in body.iterrows():\n",
        "  body['articleBody'][row_id] = ' '.join(lemmatize(art['articleBody']))\n",
        "\n",
        "for row_id, head in stance.iterrows():\n",
        "  stance['Headline'][row_id] = ' '.join(lemmatize(head['Headline']))"
      ],
      "execution_count": 5,
      "outputs": [
        {
          "output_type": "stream",
          "text": [
            "/usr/local/lib/python3.6/dist-packages/ipykernel_launcher.py:6: SettingWithCopyWarning: \n",
            "A value is trying to be set on a copy of a slice from a DataFrame\n",
            "\n",
            "See the caveats in the documentation: https://pandas.pydata.org/pandas-docs/stable/user_guide/indexing.html#returning-a-view-versus-a-copy\n",
            "  \n",
            "/usr/local/lib/python3.6/dist-packages/ipykernel_launcher.py:9: SettingWithCopyWarning: \n",
            "A value is trying to be set on a copy of a slice from a DataFrame\n",
            "\n",
            "See the caveats in the documentation: https://pandas.pydata.org/pandas-docs/stable/user_guide/indexing.html#returning-a-view-versus-a-copy\n",
            "  if __name__ == '__main__':\n"
          ],
          "name": "stderr"
        }
      ]
    },
    {
      "cell_type": "code",
      "metadata": {
        "id": "R2PORhTf6pus",
        "outputId": "377b1434-a886-42d5-8068-3b9dc9cfb2d4",
        "colab": {
          "base_uri": "https://localhost:8080/"
        }
      },
      "source": [
        "for row_id, art in body.iterrows():\n",
        "  body['articleBody'][row_id] = art['articleBody'].lower()\n",
        "\n",
        "for row_id, head in stance.iterrows():\n",
        "  stance['Headline'][row_id] = head['Headline'].lower()"
      ],
      "execution_count": 6,
      "outputs": [
        {
          "output_type": "stream",
          "text": [
            "/usr/local/lib/python3.6/dist-packages/ipykernel_launcher.py:2: SettingWithCopyWarning: \n",
            "A value is trying to be set on a copy of a slice from a DataFrame\n",
            "\n",
            "See the caveats in the documentation: https://pandas.pydata.org/pandas-docs/stable/user_guide/indexing.html#returning-a-view-versus-a-copy\n",
            "  \n",
            "/usr/local/lib/python3.6/dist-packages/ipykernel_launcher.py:5: SettingWithCopyWarning: \n",
            "A value is trying to be set on a copy of a slice from a DataFrame\n",
            "\n",
            "See the caveats in the documentation: https://pandas.pydata.org/pandas-docs/stable/user_guide/indexing.html#returning-a-view-versus-a-copy\n",
            "  \"\"\"\n"
          ],
          "name": "stderr"
        }
      ]
    },
    {
      "cell_type": "code",
      "metadata": {
        "id": "1GYcGSP46vnZ"
      },
      "source": [
        "corpus = []\n",
        "for row_id, art in body.iterrows():\n",
        "  corpus.append(w_tokenizer.tokenize(art['articleBody']))\n",
        "\n",
        "for row_id, head in stance.iterrows():\n",
        "  corpus.append(w_tokenizer.tokenize(head['Headline']))"
      ],
      "execution_count": 7,
      "outputs": []
    },
    {
      "cell_type": "code",
      "metadata": {
        "id": "j8p6L5aN6-zG",
        "outputId": "6cffe3b8-9b05-4ba6-a8ac-c1fdd9a4596d",
        "colab": {
          "base_uri": "https://localhost:8080/"
        }
      },
      "source": [
        "pad_art = 180\n",
        "pad_head = 11\n",
        "for row_id, art in body.iterrows():\n",
        "  body['articleBody'][row_id] = ' '.join(w_tokenizer.tokenize(art['articleBody'])[:pad_art])\n",
        "\n",
        "for row_id, head in stance.iterrows():\n",
        "  stance['Headline'][row_id] = ' '.join(w_tokenizer.tokenize(head['Headline'])[:pad_head])"
      ],
      "execution_count": 8,
      "outputs": [
        {
          "output_type": "stream",
          "text": [
            "/usr/local/lib/python3.6/dist-packages/ipykernel_launcher.py:4: SettingWithCopyWarning: \n",
            "A value is trying to be set on a copy of a slice from a DataFrame\n",
            "\n",
            "See the caveats in the documentation: https://pandas.pydata.org/pandas-docs/stable/user_guide/indexing.html#returning-a-view-versus-a-copy\n",
            "  after removing the cwd from sys.path.\n",
            "/usr/local/lib/python3.6/dist-packages/ipykernel_launcher.py:7: SettingWithCopyWarning: \n",
            "A value is trying to be set on a copy of a slice from a DataFrame\n",
            "\n",
            "See the caveats in the documentation: https://pandas.pydata.org/pandas-docs/stable/user_guide/indexing.html#returning-a-view-versus-a-copy\n",
            "  import sys\n"
          ],
          "name": "stderr"
        }
      ]
    },
    {
      "cell_type": "code",
      "metadata": {
        "id": "-_4E8tqM7DPj",
        "outputId": "1d878d83-936e-4a90-eabc-f1df893c79cf",
        "colab": {
          "base_uri": "https://localhost:8080/"
        }
      },
      "source": [
        "model = Word2Vec(corpus, min_count = 1, size = 100, workers = 3, window = 3, iter = 30)\n",
        "def vectorize(text):\n",
        "  return [model[word] for word in w_tokenizer.tokenize(text)]\n",
        "\n",
        "art_vec = pd.Series([], dtype = float)\n",
        "for row_id, art in body.iterrows():\n",
        "  art_vec[row_id] = vectorize(art['articleBody'])\n",
        "\n",
        "head_vec = pd.Series([], dtype = float)\n",
        "for row_id, head in stance.iterrows():\n",
        "  head_vec[row_id] = vectorize(head['Headline'])\n",
        "\n",
        "pad_art_vec = keras.preprocessing.sequence.pad_sequences(art_vec, padding = 'post', maxlen = pad_art, dtype = float)\n",
        "pad_head_vec = keras.preprocessing.sequence.pad_sequences(head_vec, padding = 'post', maxlen = pad_head, dtype = float)\n",
        "pad_art_vec = pad_art_vec.tolist()\n",
        "pad_head_vec = pad_head_vec.tolist()"
      ],
      "execution_count": 9,
      "outputs": [
        {
          "output_type": "stream",
          "text": [
            "/usr/local/lib/python3.6/dist-packages/ipykernel_launcher.py:3: DeprecationWarning: Call to deprecated `__getitem__` (Method will be removed in 4.0.0, use self.wv.__getitem__() instead).\n",
            "  This is separate from the ipykernel package so we can avoid doing imports until\n"
          ],
          "name": "stderr"
        }
      ]
    },
    {
      "cell_type": "code",
      "metadata": {
        "id": "Zr05QQbV7fva"
      },
      "source": [
        "article_vector = pd.DataFrame()\n",
        "article_vector.insert(0, 'Body ID', body['Body ID'])\n",
        "article_vector.insert(1, 'art_Vectors', pad_art_vec)\n",
        "\n",
        "headline_vector = pd.DataFrame()\n",
        "headline_vector.insert(0, 'Body ID', stance['Body ID'])\n",
        "headline_vector.insert(1, 'head_Vectors', pad_head_vec)\n",
        "\n",
        "vectors = pd.merge(article_vector, headline_vector, left_on = 'Body ID', right_on = 'Body ID')"
      ],
      "execution_count": 10,
      "outputs": []
    },
    {
      "cell_type": "markdown",
      "metadata": {
        "id": "TS0jA2Hg_GI-"
      },
      "source": [
        "**Training and Testing**"
      ]
    },
    {
      "cell_type": "code",
      "metadata": {
        "id": "52BpkYdR8sm-"
      },
      "source": [
        "from tensorflow.keras.layers import Bidirectional, concatenate, Dense, Input, LSTM\n",
        "from keras.models import Model\n",
        "from google.colab import files\n",
        "import matplotlib.pyplot as plt"
      ],
      "execution_count": 11,
      "outputs": []
    },
    {
      "cell_type": "code",
      "metadata": {
        "id": "1q8MinBw_fh0"
      },
      "source": [
        "Stan_Id = pd.Series([], dtype = int)\n",
        "for row_id, stan in stance.iterrows():\n",
        "  if stan['Stance'] == 'unrelated':\n",
        "    Stan_Id[row_id] = 0\n",
        "  elif stan['Stance'] == 'agree':\n",
        "    Stan_Id[row_id] = 1\n",
        "  elif stan['Stance'] == 'disagree':\n",
        "    Stan_Id[row_id] = 2\n",
        "  elif stan['Stance'] == 'discuss':\n",
        "    Stan_Id[row_id] = 3\n",
        "\n",
        "vectors.insert(3, 'Stance ID', Stan_Id)"
      ],
      "execution_count": 12,
      "outputs": []
    },
    {
      "cell_type": "code",
      "metadata": {
        "id": "5zlxke9WQOmw"
      },
      "source": [
        "def data(vector):\n",
        "  x = pd.DataFrame()\n",
        "  y = pd.DataFrame()\n",
        "  x.insert(0, 'head', vector['head_Vectors'])\n",
        "  x.insert(1, 'art', vector['art_Vectors'])\n",
        "  y.insert(0, 'Stan_ID', vector['Stance ID'])\n",
        "  return x, y"
      ],
      "execution_count": 13,
      "outputs": []
    },
    {
      "cell_type": "code",
      "metadata": {
        "id": "N0j4SZpxPrVW"
      },
      "source": [
        "final_vector = vectors.iloc[0:30000]\n",
        "x_train, y_train = data(final_vector)\n",
        "head_train = tf.convert_to_tensor(x_train['head'].tolist())\n",
        "art_train = tf.convert_to_tensor(x_train['art'].tolist())\n",
        "stance_train = tf.convert_to_tensor(y_train)"
      ],
      "execution_count": 14,
      "outputs": []
    },
    {
      "cell_type": "code",
      "metadata": {
        "id": "9dpTkOLFM9Dv"
      },
      "source": [
        "def train_lstm(pad_art, pad_head, art_train, head_train, stance_train):\n",
        "  x = Input(shape = (pad_head, 100))\n",
        "  y = Input(shape = (pad_art, 100))\n",
        "  head = Bidirectional(LSTM(50, dropout = 0.1, return_sequences = False))(x)\n",
        "  art = Bidirectional(LSTM(50, dropout = 0.1, return_sequences = False))(y)\n",
        "  tot = concatenate([head, art], axis = -1)\n",
        "  tot = Dense(16, activation='sigmoid')(tot)\n",
        "  total = Dense(5,activation='softmax')(tot)\n",
        "  model_lstm = Model(inputs = [x, y], outputs = total)\n",
        "  model_lstm.compile(loss='sparse_categorical_crossentropy', optimizer='adam', metrics=['accuracy'])\n",
        "\n",
        "  fitmodel = model_lstm.fit([head_train, art_train], stance_train, epochs = 20, verbose = 1, shuffle=False)\n",
        "  return fitmodel, fitmodel.history['accuracy']"
      ],
      "execution_count": 15,
      "outputs": []
    },
    {
      "cell_type": "code",
      "metadata": {
        "id": "duHa7BEZSOs_",
        "outputId": "a918a19a-4c96-49cc-dc72-d0c87ad844ea",
        "colab": {
          "base_uri": "https://localhost:8080/"
        }
      },
      "source": [
        "global_accuracy_list = []\n",
        "\n",
        "for n in range(1, 8):\n",
        "  print('Train roud:', n, '\\n\\n\\n')\n",
        "  mod, accuracy = train_lstm(pad_art, pad_head, art_train, head_train, stance_train)\n",
        "  print(mod)\n",
        "  print('\\n\\n\\n')\n",
        "  global_accuracy_list.append(accuracy)"
      ],
      "execution_count": 16,
      "outputs": [
        {
          "output_type": "stream",
          "text": [
            "Train roud: 1 \n",
            "\n",
            "\n",
            "\n",
            "Epoch 1/20\n",
            "938/938 [==============================] - 19s 20ms/step - loss: 0.8527 - accuracy: 0.7158\n",
            "Epoch 2/20\n",
            "938/938 [==============================] - 19s 20ms/step - loss: 0.8003 - accuracy: 0.7314\n",
            "Epoch 3/20\n",
            "938/938 [==============================] - 19s 20ms/step - loss: 0.7987 - accuracy: 0.7314\n",
            "Epoch 4/20\n",
            "938/938 [==============================] - 19s 20ms/step - loss: 0.7967 - accuracy: 0.7314\n",
            "Epoch 5/20\n",
            "938/938 [==============================] - 19s 20ms/step - loss: 0.7925 - accuracy: 0.7314\n",
            "Epoch 6/20\n",
            "938/938 [==============================] - 19s 20ms/step - loss: 0.7860 - accuracy: 0.7316\n",
            "Epoch 7/20\n",
            "938/938 [==============================] - 19s 20ms/step - loss: 0.7789 - accuracy: 0.7319\n",
            "Epoch 8/20\n",
            "938/938 [==============================] - 19s 20ms/step - loss: 0.7713 - accuracy: 0.7325\n",
            "Epoch 9/20\n",
            "938/938 [==============================] - 19s 20ms/step - loss: 0.7646 - accuracy: 0.7331\n",
            "Epoch 10/20\n",
            "938/938 [==============================] - 20s 21ms/step - loss: 0.7557 - accuracy: 0.7336\n",
            "Epoch 11/20\n",
            "938/938 [==============================] - 19s 20ms/step - loss: 0.7491 - accuracy: 0.7341\n",
            "Epoch 12/20\n",
            "938/938 [==============================] - 19s 20ms/step - loss: 0.7420 - accuracy: 0.7353\n",
            "Epoch 13/20\n",
            "938/938 [==============================] - 19s 20ms/step - loss: 0.7358 - accuracy: 0.7357\n",
            "Epoch 14/20\n",
            "938/938 [==============================] - 19s 20ms/step - loss: 0.7296 - accuracy: 0.7362\n",
            "Epoch 15/20\n",
            "938/938 [==============================] - 19s 20ms/step - loss: 0.7245 - accuracy: 0.7375\n",
            "Epoch 16/20\n",
            "938/938 [==============================] - 19s 20ms/step - loss: 0.7192 - accuracy: 0.7375\n",
            "Epoch 17/20\n",
            "938/938 [==============================] - 19s 20ms/step - loss: 0.7142 - accuracy: 0.7388\n",
            "Epoch 18/20\n",
            "938/938 [==============================] - 19s 20ms/step - loss: 0.7079 - accuracy: 0.7397\n",
            "Epoch 19/20\n",
            "938/938 [==============================] - 19s 20ms/step - loss: 0.7017 - accuracy: 0.7407\n",
            "Epoch 20/20\n",
            "938/938 [==============================] - 19s 20ms/step - loss: 0.6951 - accuracy: 0.7422\n",
            "<tensorflow.python.keras.callbacks.History object at 0x7fba884dbe80>\n",
            "\n",
            "\n",
            "\n",
            "\n",
            "Train roud: 2 \n",
            "\n",
            "\n",
            "\n",
            "Epoch 1/20\n",
            "938/938 [==============================] - 19s 20ms/step - loss: 0.8247 - accuracy: 0.7217\n",
            "Epoch 2/20\n",
            "938/938 [==============================] - 19s 20ms/step - loss: 0.7980 - accuracy: 0.7314\n",
            "Epoch 3/20\n",
            "938/938 [==============================] - 19s 20ms/step - loss: 0.7950 - accuracy: 0.7314\n",
            "Epoch 4/20\n",
            "938/938 [==============================] - 19s 20ms/step - loss: 0.7892 - accuracy: 0.7314\n",
            "Epoch 5/20\n",
            "938/938 [==============================] - 19s 20ms/step - loss: 0.7817 - accuracy: 0.7315\n",
            "Epoch 6/20\n",
            "938/938 [==============================] - 19s 21ms/step - loss: 0.7733 - accuracy: 0.7319\n",
            "Epoch 7/20\n",
            "938/938 [==============================] - 19s 20ms/step - loss: 0.7645 - accuracy: 0.7319\n",
            "Epoch 8/20\n",
            "938/938 [==============================] - 19s 20ms/step - loss: 0.7577 - accuracy: 0.7323\n",
            "Epoch 9/20\n",
            "938/938 [==============================] - 19s 20ms/step - loss: 0.7495 - accuracy: 0.7331\n",
            "Epoch 10/20\n",
            "938/938 [==============================] - 19s 20ms/step - loss: 0.7412 - accuracy: 0.7345\n",
            "Epoch 11/20\n",
            "938/938 [==============================] - 19s 20ms/step - loss: 0.7355 - accuracy: 0.7343\n",
            "Epoch 12/20\n",
            "938/938 [==============================] - 19s 20ms/step - loss: 0.7299 - accuracy: 0.7350\n",
            "Epoch 13/20\n",
            "938/938 [==============================] - 19s 20ms/step - loss: 0.7228 - accuracy: 0.7362\n",
            "Epoch 14/20\n",
            "938/938 [==============================] - 19s 20ms/step - loss: 0.7184 - accuracy: 0.7369\n",
            "Epoch 15/20\n",
            "938/938 [==============================] - 19s 20ms/step - loss: 0.7112 - accuracy: 0.7377\n",
            "Epoch 16/20\n",
            "938/938 [==============================] - 19s 20ms/step - loss: 0.7064 - accuracy: 0.7381\n",
            "Epoch 17/20\n",
            "938/938 [==============================] - 19s 20ms/step - loss: 0.6986 - accuracy: 0.7398\n",
            "Epoch 18/20\n",
            "938/938 [==============================] - 18s 19ms/step - loss: 0.6925 - accuracy: 0.7421\n",
            "Epoch 19/20\n",
            "938/938 [==============================] - 18s 19ms/step - loss: 0.6883 - accuracy: 0.7419\n",
            "Epoch 20/20\n",
            "938/938 [==============================] - 18s 20ms/step - loss: 0.6817 - accuracy: 0.7440\n",
            "<tensorflow.python.keras.callbacks.History object at 0x7fba81c298d0>\n",
            "\n",
            "\n",
            "\n",
            "\n",
            "Train roud: 3 \n",
            "\n",
            "\n",
            "\n",
            "Epoch 1/20\n",
            "938/938 [==============================] - 19s 20ms/step - loss: 0.8131 - accuracy: 0.7314\n",
            "Epoch 2/20\n",
            "938/938 [==============================] - 20s 21ms/step - loss: 0.7992 - accuracy: 0.7314\n",
            "Epoch 3/20\n",
            "938/938 [==============================] - 19s 21ms/step - loss: 0.7957 - accuracy: 0.7314\n",
            "Epoch 4/20\n",
            "938/938 [==============================] - 19s 20ms/step - loss: 0.7888 - accuracy: 0.7316\n",
            "Epoch 5/20\n",
            "938/938 [==============================] - 19s 21ms/step - loss: 0.7798 - accuracy: 0.7316\n",
            "Epoch 6/20\n",
            "938/938 [==============================] - 19s 20ms/step - loss: 0.7703 - accuracy: 0.7320\n",
            "Epoch 7/20\n",
            "938/938 [==============================] - 19s 20ms/step - loss: 0.7609 - accuracy: 0.7327\n",
            "Epoch 8/20\n",
            "938/938 [==============================] - 19s 20ms/step - loss: 0.7524 - accuracy: 0.7330\n",
            "Epoch 9/20\n",
            "938/938 [==============================] - 19s 20ms/step - loss: 0.7447 - accuracy: 0.7338\n",
            "Epoch 10/20\n",
            "938/938 [==============================] - 19s 20ms/step - loss: 0.7377 - accuracy: 0.7344\n",
            "Epoch 11/20\n",
            "938/938 [==============================] - 19s 20ms/step - loss: 0.7304 - accuracy: 0.7355\n",
            "Epoch 12/20\n",
            "938/938 [==============================] - 19s 20ms/step - loss: 0.7239 - accuracy: 0.7362\n",
            "Epoch 13/20\n",
            "938/938 [==============================] - 20s 21ms/step - loss: 0.7171 - accuracy: 0.7380\n",
            "Epoch 14/20\n",
            "938/938 [==============================] - 19s 21ms/step - loss: 0.7104 - accuracy: 0.7389\n",
            "Epoch 15/20\n",
            "938/938 [==============================] - 19s 20ms/step - loss: 0.7050 - accuracy: 0.7403\n",
            "Epoch 16/20\n",
            "938/938 [==============================] - 19s 20ms/step - loss: 0.6989 - accuracy: 0.7414\n",
            "Epoch 17/20\n",
            "938/938 [==============================] - 19s 20ms/step - loss: 0.6920 - accuracy: 0.7409\n",
            "Epoch 18/20\n",
            "938/938 [==============================] - 19s 21ms/step - loss: 0.6874 - accuracy: 0.7423\n",
            "Epoch 19/20\n",
            "938/938 [==============================] - 19s 20ms/step - loss: 0.6819 - accuracy: 0.7444\n",
            "Epoch 20/20\n",
            "938/938 [==============================] - 19s 20ms/step - loss: 0.6767 - accuracy: 0.7463\n",
            "<tensorflow.python.keras.callbacks.History object at 0x7fba802c7978>\n",
            "\n",
            "\n",
            "\n",
            "\n",
            "Train roud: 4 \n",
            "\n",
            "\n",
            "\n",
            "Epoch 1/20\n",
            "938/938 [==============================] - 19s 20ms/step - loss: 0.8200 - accuracy: 0.7272\n",
            "Epoch 2/20\n",
            "938/938 [==============================] - 19s 20ms/step - loss: 0.7992 - accuracy: 0.7314\n",
            "Epoch 3/20\n",
            "938/938 [==============================] - 19s 20ms/step - loss: 0.7946 - accuracy: 0.7314\n",
            "Epoch 4/20\n",
            "938/938 [==============================] - 18s 20ms/step - loss: 0.7880 - accuracy: 0.7315\n",
            "Epoch 5/20\n",
            "938/938 [==============================] - 19s 20ms/step - loss: 0.7797 - accuracy: 0.7316\n",
            "Epoch 6/20\n",
            "938/938 [==============================] - 19s 20ms/step - loss: 0.7714 - accuracy: 0.7322\n",
            "Epoch 7/20\n",
            "938/938 [==============================] - 19s 20ms/step - loss: 0.7641 - accuracy: 0.7329\n",
            "Epoch 8/20\n",
            "938/938 [==============================] - 18s 20ms/step - loss: 0.7555 - accuracy: 0.7333\n",
            "Epoch 9/20\n",
            "938/938 [==============================] - 19s 20ms/step - loss: 0.7476 - accuracy: 0.7347\n",
            "Epoch 10/20\n",
            "938/938 [==============================] - 19s 20ms/step - loss: 0.7406 - accuracy: 0.7344\n",
            "Epoch 11/20\n",
            "938/938 [==============================] - 18s 20ms/step - loss: 0.7346 - accuracy: 0.7358\n",
            "Epoch 12/20\n",
            "938/938 [==============================] - 18s 20ms/step - loss: 0.7273 - accuracy: 0.7352\n",
            "Epoch 13/20\n",
            "938/938 [==============================] - 18s 20ms/step - loss: 0.7210 - accuracy: 0.7367\n",
            "Epoch 14/20\n",
            "938/938 [==============================] - 19s 20ms/step - loss: 0.7140 - accuracy: 0.7377\n",
            "Epoch 15/20\n",
            "938/938 [==============================] - 19s 20ms/step - loss: 0.7085 - accuracy: 0.7392\n",
            "Epoch 16/20\n",
            "938/938 [==============================] - 19s 20ms/step - loss: 0.7018 - accuracy: 0.7400\n",
            "Epoch 17/20\n",
            "938/938 [==============================] - 19s 20ms/step - loss: 0.6959 - accuracy: 0.7408\n",
            "Epoch 18/20\n",
            "938/938 [==============================] - 18s 20ms/step - loss: 0.6891 - accuracy: 0.7422\n",
            "Epoch 19/20\n",
            "938/938 [==============================] - 19s 20ms/step - loss: 0.6820 - accuracy: 0.7438\n",
            "Epoch 20/20\n",
            "938/938 [==============================] - 18s 20ms/step - loss: 0.6756 - accuracy: 0.7435\n",
            "<tensorflow.python.keras.callbacks.History object at 0x7fb7cae2c908>\n",
            "\n",
            "\n",
            "\n",
            "\n",
            "Train roud: 5 \n",
            "\n",
            "\n",
            "\n",
            "Epoch 1/20\n",
            "938/938 [==============================] - 18s 20ms/step - loss: 0.8582 - accuracy: 0.7165\n",
            "Epoch 2/20\n",
            "938/938 [==============================] - 18s 20ms/step - loss: 0.8018 - accuracy: 0.7314\n",
            "Epoch 3/20\n",
            "938/938 [==============================] - 19s 20ms/step - loss: 0.7996 - accuracy: 0.7314\n",
            "Epoch 4/20\n",
            "938/938 [==============================] - 18s 19ms/step - loss: 0.7966 - accuracy: 0.7314\n",
            "Epoch 5/20\n",
            "938/938 [==============================] - 18s 20ms/step - loss: 0.7915 - accuracy: 0.7316\n",
            "Epoch 6/20\n",
            "938/938 [==============================] - 18s 20ms/step - loss: 0.7843 - accuracy: 0.7317\n",
            "Epoch 7/20\n",
            "938/938 [==============================] - 18s 20ms/step - loss: 0.7767 - accuracy: 0.7324\n",
            "Epoch 8/20\n",
            "938/938 [==============================] - 18s 19ms/step - loss: 0.7673 - accuracy: 0.7334\n",
            "Epoch 9/20\n",
            "938/938 [==============================] - 18s 19ms/step - loss: 0.7587 - accuracy: 0.7341\n",
            "Epoch 10/20\n",
            "938/938 [==============================] - 19s 20ms/step - loss: 0.7500 - accuracy: 0.7351\n",
            "Epoch 11/20\n",
            "938/938 [==============================] - 19s 20ms/step - loss: 0.7429 - accuracy: 0.7363\n",
            "Epoch 12/20\n",
            "938/938 [==============================] - 19s 20ms/step - loss: 0.7356 - accuracy: 0.7366\n",
            "Epoch 13/20\n",
            "938/938 [==============================] - 18s 20ms/step - loss: 0.7273 - accuracy: 0.7370\n",
            "Epoch 14/20\n",
            "938/938 [==============================] - 18s 20ms/step - loss: 0.7208 - accuracy: 0.7379\n",
            "Epoch 15/20\n",
            "938/938 [==============================] - 19s 20ms/step - loss: 0.7153 - accuracy: 0.7398\n",
            "Epoch 16/20\n",
            "938/938 [==============================] - 19s 20ms/step - loss: 0.7083 - accuracy: 0.7408\n",
            "Epoch 17/20\n",
            "938/938 [==============================] - 18s 20ms/step - loss: 0.7028 - accuracy: 0.7411\n",
            "Epoch 18/20\n",
            "938/938 [==============================] - 18s 19ms/step - loss: 0.6967 - accuracy: 0.7447\n",
            "Epoch 19/20\n",
            "938/938 [==============================] - 19s 20ms/step - loss: 0.6916 - accuracy: 0.7450\n",
            "Epoch 20/20\n",
            "938/938 [==============================] - 19s 20ms/step - loss: 0.6847 - accuracy: 0.7440\n",
            "<tensorflow.python.keras.callbacks.History object at 0x7fba817abf28>\n",
            "\n",
            "\n",
            "\n",
            "\n",
            "Train roud: 6 \n",
            "\n",
            "\n",
            "\n",
            "Epoch 1/20\n",
            "938/938 [==============================] - 18s 20ms/step - loss: 0.8520 - accuracy: 0.7131\n",
            "Epoch 2/20\n",
            "938/938 [==============================] - 19s 20ms/step - loss: 0.7998 - accuracy: 0.7314\n",
            "Epoch 3/20\n",
            "938/938 [==============================] - 18s 20ms/step - loss: 0.7975 - accuracy: 0.7314\n",
            "Epoch 4/20\n",
            "938/938 [==============================] - 19s 20ms/step - loss: 0.7939 - accuracy: 0.7314\n",
            "Epoch 5/20\n",
            "938/938 [==============================] - 19s 20ms/step - loss: 0.7884 - accuracy: 0.7315\n",
            "Epoch 6/20\n",
            "938/938 [==============================] - 19s 20ms/step - loss: 0.7806 - accuracy: 0.7322\n",
            "Epoch 7/20\n",
            "938/938 [==============================] - 19s 20ms/step - loss: 0.7717 - accuracy: 0.7325\n",
            "Epoch 8/20\n",
            "938/938 [==============================] - 19s 20ms/step - loss: 0.7640 - accuracy: 0.7334\n",
            "Epoch 9/20\n",
            "938/938 [==============================] - 19s 20ms/step - loss: 0.7555 - accuracy: 0.7342\n",
            "Epoch 10/20\n",
            "938/938 [==============================] - 19s 20ms/step - loss: 0.7489 - accuracy: 0.7344\n",
            "Epoch 11/20\n",
            "938/938 [==============================] - 18s 20ms/step - loss: 0.7423 - accuracy: 0.7351\n",
            "Epoch 12/20\n",
            "938/938 [==============================] - 19s 20ms/step - loss: 0.7352 - accuracy: 0.7355\n",
            "Epoch 13/20\n",
            "938/938 [==============================] - 19s 20ms/step - loss: 0.7299 - accuracy: 0.7372\n",
            "Epoch 14/20\n",
            "938/938 [==============================] - 19s 20ms/step - loss: 0.7238 - accuracy: 0.7375\n",
            "Epoch 15/20\n",
            "938/938 [==============================] - 19s 20ms/step - loss: 0.7190 - accuracy: 0.7383\n",
            "Epoch 16/20\n",
            "938/938 [==============================] - 19s 20ms/step - loss: 0.7156 - accuracy: 0.7373\n",
            "Epoch 17/20\n",
            "938/938 [==============================] - 19s 20ms/step - loss: 0.7111 - accuracy: 0.7394\n",
            "Epoch 18/20\n",
            "938/938 [==============================] - 19s 20ms/step - loss: 0.7032 - accuracy: 0.7409\n",
            "Epoch 19/20\n",
            "938/938 [==============================] - 19s 20ms/step - loss: 0.6978 - accuracy: 0.7418\n",
            "Epoch 20/20\n",
            "938/938 [==============================] - 19s 20ms/step - loss: 0.6953 - accuracy: 0.7435\n",
            "<tensorflow.python.keras.callbacks.History object at 0x7fb7c9c8fe10>\n",
            "\n",
            "\n",
            "\n",
            "\n",
            "Train roud: 7 \n",
            "\n",
            "\n",
            "\n",
            "Epoch 1/20\n",
            "938/938 [==============================] - 19s 20ms/step - loss: 0.8364 - accuracy: 0.7212\n",
            "Epoch 2/20\n",
            "938/938 [==============================] - 19s 20ms/step - loss: 0.7997 - accuracy: 0.7314\n",
            "Epoch 3/20\n",
            "938/938 [==============================] - 19s 20ms/step - loss: 0.7951 - accuracy: 0.7314\n",
            "Epoch 4/20\n",
            "938/938 [==============================] - 19s 20ms/step - loss: 0.7885 - accuracy: 0.7314\n",
            "Epoch 5/20\n",
            "938/938 [==============================] - 18s 20ms/step - loss: 0.7810 - accuracy: 0.7315\n",
            "Epoch 6/20\n",
            "938/938 [==============================] - 18s 20ms/step - loss: 0.7734 - accuracy: 0.7318\n",
            "Epoch 7/20\n",
            "938/938 [==============================] - 18s 20ms/step - loss: 0.7660 - accuracy: 0.7319\n",
            "Epoch 8/20\n",
            "938/938 [==============================] - 18s 20ms/step - loss: 0.7589 - accuracy: 0.7324\n",
            "Epoch 9/20\n",
            "938/938 [==============================] - 19s 20ms/step - loss: 0.7528 - accuracy: 0.7326\n",
            "Epoch 10/20\n",
            "938/938 [==============================] - 19s 20ms/step - loss: 0.7461 - accuracy: 0.7334\n",
            "Epoch 11/20\n",
            "938/938 [==============================] - 18s 20ms/step - loss: 0.7409 - accuracy: 0.7338\n",
            "Epoch 12/20\n",
            "938/938 [==============================] - 18s 19ms/step - loss: 0.7362 - accuracy: 0.7350\n",
            "Epoch 13/20\n",
            "938/938 [==============================] - 18s 19ms/step - loss: 0.7293 - accuracy: 0.7358\n",
            "Epoch 14/20\n",
            "938/938 [==============================] - 18s 20ms/step - loss: 0.7225 - accuracy: 0.7367\n",
            "Epoch 15/20\n",
            "938/938 [==============================] - 18s 20ms/step - loss: 0.7174 - accuracy: 0.7365\n",
            "Epoch 16/20\n",
            "938/938 [==============================] - 18s 20ms/step - loss: 0.7129 - accuracy: 0.7369\n",
            "Epoch 17/20\n",
            "938/938 [==============================] - 18s 19ms/step - loss: 0.7080 - accuracy: 0.7383\n",
            "Epoch 18/20\n",
            "938/938 [==============================] - 18s 20ms/step - loss: 0.7035 - accuracy: 0.7397\n",
            "Epoch 19/20\n",
            "938/938 [==============================] - 19s 20ms/step - loss: 0.6973 - accuracy: 0.7407\n",
            "Epoch 20/20\n",
            "938/938 [==============================] - 18s 19ms/step - loss: 0.6921 - accuracy: 0.7418\n",
            "<tensorflow.python.keras.callbacks.History object at 0x7fb7c7bae9e8>\n",
            "\n",
            "\n",
            "\n",
            "\n"
          ],
          "name": "stdout"
        }
      ]
    },
    {
      "cell_type": "code",
      "metadata": {
        "id": "ssv_VQZ3pWsF",
        "outputId": "1de5855d-b684-4392-db48-67523b07924d",
        "colab": {
          "base_uri": "https://localhost:8080/",
          "height": 269
        }
      },
      "source": [
        "y = np.average(global_accuracy_list, axis = 0)\n",
        "\n",
        "plt.plot(y, color = 'r')\n",
        "plt.xticks(ticks = np.arange(0, 20), labels = np.arange(1, 21))\n",
        "plt.yticks(ticks = np.arange(0.1, 1.1, 0.1))\n",
        "plt.show()"
      ],
      "execution_count": 17,
      "outputs": [
        {
          "output_type": "display_data",
          "data": {
            "image/png": "[encoded data removed]",
            "text/plain": [
              "<Figure size 432x288 with 1 Axes>"
            ]
          },
          "metadata": {
            "tags": [],
            "needs_background": "light"
          }
        }
      ]
    },
    {
      "cell_type": "code",
      "metadata": {
        "id": "mV_9-DegeAkZ",
        "outputId": "56c7d42f-6631-4e69-bd29-461376a58f65",
        "colab": {
          "base_uri": "https://localhost:8080/",
          "height": 689
        }
      },
      "source": [
        "x = Input(shape = (pad_head, 100))\n",
        "y = Input(shape = (pad_art, 100))\n",
        "head = Bidirectional(LSTM(50, dropout = 0.5, return_sequences = False))(x)\n",
        "art = Bidirectional(LSTM(50, dropout = 0.5, return_sequences = False))(y)\n",
        "tot = concatenate([head, art], axis = -1)\n",
        "tot = Dense(16, activation='sigmoid')(tot)\n",
        "total = Dense(5,activation='softmax')(tot)\n",
        "model_lstm = Model(inputs = [x, y], outputs = total)\n",
        "model_lstm.compile(loss='sparse_categorical_crossentropy', optimizer='adam', metrics=['accuracy'])\n",
        "\n",
        "fitmodel = model_lstm.fit([head_train, art_train], stance_train, epochs = 20, verbose = 1, shuffle=False)\n",
        "\n",
        "model_lstm.save('model_lstm.h5')\n",
        "files.download('model_lstm.h5')"
      ],
      "execution_count": 18,
      "outputs": [
        {
          "output_type": "stream",
          "text": [
            "Epoch 1/20\n",
            "938/938 [==============================] - 18s 19ms/step - loss: 0.8364 - accuracy: 0.7195\n",
            "Epoch 2/20\n",
            "938/938 [==============================] - 18s 19ms/step - loss: 0.8002 - accuracy: 0.7314\n",
            "Epoch 3/20\n",
            "938/938 [==============================] - 18s 19ms/step - loss: 0.7990 - accuracy: 0.7314\n",
            "Epoch 4/20\n",
            "938/938 [==============================] - 18s 19ms/step - loss: 0.7976 - accuracy: 0.7314\n",
            "Epoch 5/20\n",
            "938/938 [==============================] - 18s 19ms/step - loss: 0.7955 - accuracy: 0.7314\n",
            "Epoch 6/20\n",
            "938/938 [==============================] - 19s 20ms/step - loss: 0.7932 - accuracy: 0.7316\n",
            "Epoch 7/20\n",
            "938/938 [==============================] - 18s 19ms/step - loss: 0.7913 - accuracy: 0.7316\n",
            "Epoch 8/20\n",
            "938/938 [==============================] - 18s 19ms/step - loss: 0.7892 - accuracy: 0.7321\n",
            "Epoch 9/20\n",
            "938/938 [==============================] - 18s 19ms/step - loss: 0.7858 - accuracy: 0.7320\n",
            "Epoch 10/20\n",
            "938/938 [==============================] - 18s 19ms/step - loss: 0.7838 - accuracy: 0.7318\n",
            "Epoch 11/20\n",
            "938/938 [==============================] - 18s 19ms/step - loss: 0.7815 - accuracy: 0.7324\n",
            "Epoch 12/20\n",
            "938/938 [==============================] - 18s 19ms/step - loss: 0.7793 - accuracy: 0.7326\n",
            "Epoch 13/20\n",
            "938/938 [==============================] - 18s 19ms/step - loss: 0.7775 - accuracy: 0.7323\n",
            "Epoch 14/20\n",
            "938/938 [==============================] - 18s 19ms/step - loss: 0.7763 - accuracy: 0.7325\n",
            "Epoch 15/20\n",
            "938/938 [==============================] - 18s 19ms/step - loss: 0.7739 - accuracy: 0.7327\n",
            "Epoch 16/20\n",
            "938/938 [==============================] - 18s 19ms/step - loss: 0.7743 - accuracy: 0.7323\n",
            "Epoch 17/20\n",
            "938/938 [==============================] - 18s 19ms/step - loss: 0.7706 - accuracy: 0.7323\n",
            "Epoch 18/20\n",
            "938/938 [==============================] - 18s 19ms/step - loss: 0.7692 - accuracy: 0.7325\n",
            "Epoch 19/20\n",
            "938/938 [==============================] - 18s 19ms/step - loss: 0.7685 - accuracy: 0.7326\n",
            "Epoch 20/20\n",
            "938/938 [==============================] - 18s 19ms/step - loss: 0.7672 - accuracy: 0.7323\n"
          ],
          "name": "stdout"
        },
        {
          "output_type": "display_data",
          "data": {
            "application/javascript": [
              "\n",
              "    async function download(id, filename, size) {\n",
              "      if (!google.colab.kernel.accessAllowed) {\n",
              "        return;\n",
              "      }\n",
              "      const div = document.createElement('div');\n",
              "      const label = document.createElement('label');\n",
              "      label.textContent = `Downloading \"${filename}\": `;\n",
              "      div.appendChild(label);\n",
              "      const progress = document.createElement('progress');\n",
              "      progress.max = size;\n",
              "      div.appendChild(progress);\n",
              "      document.body.appendChild(div);\n",
              "\n",
              "      const buffers = [];\n",
              "      let downloaded = 0;\n",
              "\n",
              "      const channel = await google.colab.kernel.comms.open(id);\n",
              "      // Send a message to notify the kernel that we're ready.\n",
              "      channel.send({})\n",
              "\n",
              "      for await (const message of channel.messages) {\n",
              "        // Send a message to notify the kernel that we're ready.\n",
              "        channel.send({})\n",
              "        if (message.buffers) {\n",
              "          for (const buffer of message.buffers) {\n",
              "            buffers.push(buffer);\n",
              "            downloaded += buffer.byteLength;\n",
              "            progress.value = downloaded;\n",
              "          }\n",
              "        }\n",
              "      }\n",
              "      const blob = new Blob(buffers, {type: 'application/binary'});\n",
              "      const a = document.createElement('a');\n",
              "      a.href = window.URL.createObjectURL(blob);\n",
              "      a.download = filename;\n",
              "      div.appendChild(a);\n",
              "      a.click();\n",
              "      div.remove();\n",
              "    }\n",
              "  "
            ],
            "text/plain": [
              "<IPython.core.display.Javascript object>"
            ]
          },
          "metadata": {
            "tags": []
          }
        },
        {
          "output_type": "display_data",
          "data": {
            "application/javascript": [
              "download(\"download_a73c4560-3c39-4518-ad18-c4cdb4b7710d\", \"model_lstm.h5\", 1568640)"
            ],
            "text/plain": [
              "<IPython.core.display.Javascript object>"
            ]
          },
          "metadata": {
            "tags": []
          }
        }
      ]
    }
  ]
}