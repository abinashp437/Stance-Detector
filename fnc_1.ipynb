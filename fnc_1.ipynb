{
  "nbformat": 4,
  "nbformat_minor": 0,
  "metadata": {
    "colab": {
      "name": "fnc-1.ipynb",
      "provenance": [],
      "authorship_tag": "ABX9TyP8VGXmRtRMt7Ry/eGpwLWw",
      "include_colab_link": true
    },
    "kernelspec": {
      "name": "python3",
      "display_name": "Python 3"
    }
  },
  "cells": [
    {
      "cell_type": "markdown",
      "metadata": {
        "id": "view-in-github",
        "colab_type": "text"
      },
      "source": [
        "<a href=\"https://colab.research.google.com/github/abinashp437/Stance_Detection_FNC_1/blob/main/fnc_1.ipynb\" target=\"_parent\"><img src=\"https://colab.research.google.com/assets/colab-badge.svg\" alt=\"Open In Colab\"/></a>"
      ]
    },
    {
      "cell_type": "markdown",
      "metadata": {
        "id": "GVz8spU4F7Yi"
      },
      "source": [
        "**Exploration and Preprocess**"
      ]
    },
    {
      "cell_type": "code",
      "metadata": {
        "id": "MX4Q_bwZ4PBU"
      },
      "source": [
        "import pandas as pd"
      ],
      "execution_count": 1,
      "outputs": []
    },
    {
      "cell_type": "code",
      "metadata": {
        "id": "3Ws9JUq_4TbO"
      },
      "source": [
        "body_url = \"https://raw.githubusercontent.com/FakeNewsChallenge/fnc-1/master/train_bodies.csv\"\n",
        "body = pd.read_csv(body_url)"
      ],
      "execution_count": 2,
      "outputs": []
    },
    {
      "cell_type": "code",
      "metadata": {
        "id": "ItH4AA7e4WWc"
      },
      "source": [
        "stance_url = \"https://raw.githubusercontent.com/FakeNewsChallenge/fnc-1/master/train_stances.csv\"\n",
        "stance = pd.read_csv(stance_url)"
      ],
      "execution_count": 3,
      "outputs": []
    },
    {
      "cell_type": "code",
      "metadata": {
        "id": "qCenGeQS4hNa",
        "outputId": "ad3c2c5c-ac5b-425e-c428-adf055d3da3e",
        "colab": {
          "base_uri": "https://localhost:8080/"
        }
      },
      "source": [
        "print(body.shape)\n",
        "print(stance.shape)"
      ],
      "execution_count": 4,
      "outputs": [
        {
          "output_type": "stream",
          "text": [
            "(1683, 2)\n",
            "(49972, 3)\n"
          ],
          "name": "stdout"
        }
      ]
    },
    {
      "cell_type": "code",
      "metadata": {
        "id": "_VwB_RKm4rsA",
        "outputId": "51c29897-aa85-4783-b1ac-e62167daccd4",
        "colab": {
          "base_uri": "https://localhost:8080/",
          "height": 195
        }
      },
      "source": [
        "body.head()"
      ],
      "execution_count": 5,
      "outputs": [
        {
          "output_type": "execute_result",
          "data": {
            "text/html": [
              "<div>\n",
              "<style scoped>\n",
              "    .dataframe tbody tr th:only-of-type {\n",
              "        vertical-align: middle;\n",
              "    }\n",
              "\n",
              "    .dataframe tbody tr th {\n",
              "        vertical-align: top;\n",
              "    }\n",
              "\n",
              "    .dataframe thead th {\n",
              "        text-align: right;\n",
              "    }\n",
              "</style>\n",
              "<table border=\"1\" class=\"dataframe\">\n",
              "  <thead>\n",
              "    <tr style=\"text-align: right;\">\n",
              "      <th></th>\n",
              "      <th>Body ID</th>\n",
              "      <th>articleBody</th>\n",
              "    </tr>\n",
              "  </thead>\n",
              "  <tbody>\n",
              "    <tr>\n",
              "      <th>0</th>\n",
              "      <td>0</td>\n",
              "      <td>A small meteorite crashed into a wooded area i...</td>\n",
              "    </tr>\n",
              "    <tr>\n",
              "      <th>1</th>\n",
              "      <td>4</td>\n",
              "      <td>Last week we hinted at what was to come as Ebo...</td>\n",
              "    </tr>\n",
              "    <tr>\n",
              "      <th>2</th>\n",
              "      <td>5</td>\n",
              "      <td>(NEWSER) – Wonder how long a Quarter Pounder w...</td>\n",
              "    </tr>\n",
              "    <tr>\n",
              "      <th>3</th>\n",
              "      <td>6</td>\n",
              "      <td>Posting photos of a gun-toting child online, I...</td>\n",
              "    </tr>\n",
              "    <tr>\n",
              "      <th>4</th>\n",
              "      <td>7</td>\n",
              "      <td>At least 25 suspected Boko Haram insurgents we...</td>\n",
              "    </tr>\n",
              "  </tbody>\n",
              "</table>\n",
              "</div>"
            ],
            "text/plain": [
              "   Body ID                                        articleBody\n",
              "0        0  A small meteorite crashed into a wooded area i...\n",
              "1        4  Last week we hinted at what was to come as Ebo...\n",
              "2        5  (NEWSER) – Wonder how long a Quarter Pounder w...\n",
              "3        6  Posting photos of a gun-toting child online, I...\n",
              "4        7  At least 25 suspected Boko Haram insurgents we..."
            ]
          },
          "metadata": {
            "tags": []
          },
          "execution_count": 5
        }
      ]
    },
    {
      "cell_type": "code",
      "metadata": {
        "id": "gYGjOJSF4xDk",
        "outputId": "aa6f5472-83d5-491e-ce0e-779b312a4a19",
        "colab": {
          "base_uri": "https://localhost:8080/",
          "height": 195
        }
      },
      "source": [
        "stance.head()"
      ],
      "execution_count": 6,
      "outputs": [
        {
          "output_type": "execute_result",
          "data": {
            "text/html": [
              "<div>\n",
              "<style scoped>\n",
              "    .dataframe tbody tr th:only-of-type {\n",
              "        vertical-align: middle;\n",
              "    }\n",
              "\n",
              "    .dataframe tbody tr th {\n",
              "        vertical-align: top;\n",
              "    }\n",
              "\n",
              "    .dataframe thead th {\n",
              "        text-align: right;\n",
              "    }\n",
              "</style>\n",
              "<table border=\"1\" class=\"dataframe\">\n",
              "  <thead>\n",
              "    <tr style=\"text-align: right;\">\n",
              "      <th></th>\n",
              "      <th>Headline</th>\n",
              "      <th>Body ID</th>\n",
              "      <th>Stance</th>\n",
              "    </tr>\n",
              "  </thead>\n",
              "  <tbody>\n",
              "    <tr>\n",
              "      <th>0</th>\n",
              "      <td>Police find mass graves with at least '15 bodi...</td>\n",
              "      <td>712</td>\n",
              "      <td>unrelated</td>\n",
              "    </tr>\n",
              "    <tr>\n",
              "      <th>1</th>\n",
              "      <td>Hundreds of Palestinians flee floods in Gaza a...</td>\n",
              "      <td>158</td>\n",
              "      <td>agree</td>\n",
              "    </tr>\n",
              "    <tr>\n",
              "      <th>2</th>\n",
              "      <td>Christian Bale passes on role of Steve Jobs, a...</td>\n",
              "      <td>137</td>\n",
              "      <td>unrelated</td>\n",
              "    </tr>\n",
              "    <tr>\n",
              "      <th>3</th>\n",
              "      <td>HBO and Apple in Talks for $15/Month Apple TV ...</td>\n",
              "      <td>1034</td>\n",
              "      <td>unrelated</td>\n",
              "    </tr>\n",
              "    <tr>\n",
              "      <th>4</th>\n",
              "      <td>Spider burrowed through tourist's stomach and ...</td>\n",
              "      <td>1923</td>\n",
              "      <td>disagree</td>\n",
              "    </tr>\n",
              "  </tbody>\n",
              "</table>\n",
              "</div>"
            ],
            "text/plain": [
              "                                            Headline  Body ID     Stance\n",
              "0  Police find mass graves with at least '15 bodi...      712  unrelated\n",
              "1  Hundreds of Palestinians flee floods in Gaza a...      158      agree\n",
              "2  Christian Bale passes on role of Steve Jobs, a...      137  unrelated\n",
              "3  HBO and Apple in Talks for $15/Month Apple TV ...     1034  unrelated\n",
              "4  Spider burrowed through tourist's stomach and ...     1923   disagree"
            ]
          },
          "metadata": {
            "tags": []
          },
          "execution_count": 6
        }
      ]
    },
    {
      "cell_type": "code",
      "metadata": {
        "id": "kuUUvao440HT",
        "outputId": "2cba2d5a-6ac3-4119-a8ed-28d1422e48c4",
        "colab": {
          "base_uri": "https://localhost:8080/"
        }
      },
      "source": [
        "len(body['Body ID'].unique())"
      ],
      "execution_count": 7,
      "outputs": [
        {
          "output_type": "execute_result",
          "data": {
            "text/plain": [
              "1683"
            ]
          },
          "metadata": {
            "tags": []
          },
          "execution_count": 7
        }
      ]
    },
    {
      "cell_type": "code",
      "metadata": {
        "id": "ur-c2eVb5TeF",
        "outputId": "785438ee-d5c0-4632-f42e-4cdf58863175",
        "colab": {
          "base_uri": "https://localhost:8080/"
        }
      },
      "source": [
        "len(stance['Body ID'].unique())"
      ],
      "execution_count": 8,
      "outputs": [
        {
          "output_type": "execute_result",
          "data": {
            "text/plain": [
              "1683"
            ]
          },
          "metadata": {
            "tags": []
          },
          "execution_count": 8
        }
      ]
    },
    {
      "cell_type": "code",
      "metadata": {
        "id": "DJMyQydW5g5r",
        "outputId": "2e87e5b4-fead-458b-8aab-0fb7ffc76d8d",
        "colab": {
          "base_uri": "https://localhost:8080/"
        }
      },
      "source": [
        "stance['Body ID'].value_counts()"
      ],
      "execution_count": 9,
      "outputs": [
        {
          "output_type": "execute_result",
          "data": {
            "text/plain": [
              "1921    187\n",
              "1948    175\n",
              "40      172\n",
              "524     171\n",
              "1549    166\n",
              "       ... \n",
              "376       1\n",
              "140       1\n",
              "307       1\n",
              "1066      1\n",
              "59        1\n",
              "Name: Body ID, Length: 1683, dtype: int64"
            ]
          },
          "metadata": {
            "tags": []
          },
          "execution_count": 9
        }
      ]
    },
    {
      "cell_type": "code",
      "metadata": {
        "id": "7vUfgFEW8DWY",
        "outputId": "3c9a1489-f341-41f1-95ad-1fb65d644281",
        "colab": {
          "base_uri": "https://localhost:8080/",
          "height": 402
        }
      },
      "source": [
        "stance"
      ],
      "execution_count": 10,
      "outputs": [
        {
          "output_type": "execute_result",
          "data": {
            "text/html": [
              "<div>\n",
              "<style scoped>\n",
              "    .dataframe tbody tr th:only-of-type {\n",
              "        vertical-align: middle;\n",
              "    }\n",
              "\n",
              "    .dataframe tbody tr th {\n",
              "        vertical-align: top;\n",
              "    }\n",
              "\n",
              "    .dataframe thead th {\n",
              "        text-align: right;\n",
              "    }\n",
              "</style>\n",
              "<table border=\"1\" class=\"dataframe\">\n",
              "  <thead>\n",
              "    <tr style=\"text-align: right;\">\n",
              "      <th></th>\n",
              "      <th>Headline</th>\n",
              "      <th>Body ID</th>\n",
              "      <th>Stance</th>\n",
              "    </tr>\n",
              "  </thead>\n",
              "  <tbody>\n",
              "    <tr>\n",
              "      <th>0</th>\n",
              "      <td>Police find mass graves with at least '15 bodi...</td>\n",
              "      <td>712</td>\n",
              "      <td>unrelated</td>\n",
              "    </tr>\n",
              "    <tr>\n",
              "      <th>1</th>\n",
              "      <td>Hundreds of Palestinians flee floods in Gaza a...</td>\n",
              "      <td>158</td>\n",
              "      <td>agree</td>\n",
              "    </tr>\n",
              "    <tr>\n",
              "      <th>2</th>\n",
              "      <td>Christian Bale passes on role of Steve Jobs, a...</td>\n",
              "      <td>137</td>\n",
              "      <td>unrelated</td>\n",
              "    </tr>\n",
              "    <tr>\n",
              "      <th>3</th>\n",
              "      <td>HBO and Apple in Talks for $15/Month Apple TV ...</td>\n",
              "      <td>1034</td>\n",
              "      <td>unrelated</td>\n",
              "    </tr>\n",
              "    <tr>\n",
              "      <th>4</th>\n",
              "      <td>Spider burrowed through tourist's stomach and ...</td>\n",
              "      <td>1923</td>\n",
              "      <td>disagree</td>\n",
              "    </tr>\n",
              "    <tr>\n",
              "      <th>...</th>\n",
              "      <td>...</td>\n",
              "      <td>...</td>\n",
              "      <td>...</td>\n",
              "    </tr>\n",
              "    <tr>\n",
              "      <th>49967</th>\n",
              "      <td>Urgent: The Leader of ISIL 'Abu Bakr al-Baghda...</td>\n",
              "      <td>1681</td>\n",
              "      <td>unrelated</td>\n",
              "    </tr>\n",
              "    <tr>\n",
              "      <th>49968</th>\n",
              "      <td>Brian Williams slams social media for speculat...</td>\n",
              "      <td>2419</td>\n",
              "      <td>unrelated</td>\n",
              "    </tr>\n",
              "    <tr>\n",
              "      <th>49969</th>\n",
              "      <td>Mexico Says Missing Students Not Found In Firs...</td>\n",
              "      <td>1156</td>\n",
              "      <td>agree</td>\n",
              "    </tr>\n",
              "    <tr>\n",
              "      <th>49970</th>\n",
              "      <td>US Lawmaker: Ten ISIS Fighters Have Been Appre...</td>\n",
              "      <td>1012</td>\n",
              "      <td>discuss</td>\n",
              "    </tr>\n",
              "    <tr>\n",
              "      <th>49971</th>\n",
              "      <td>Shots Heard In Alleged Brown Shooting Recordin...</td>\n",
              "      <td>2044</td>\n",
              "      <td>unrelated</td>\n",
              "    </tr>\n",
              "  </tbody>\n",
              "</table>\n",
              "<p>49972 rows × 3 columns</p>\n",
              "</div>"
            ],
            "text/plain": [
              "                                                Headline  Body ID     Stance\n",
              "0      Police find mass graves with at least '15 bodi...      712  unrelated\n",
              "1      Hundreds of Palestinians flee floods in Gaza a...      158      agree\n",
              "2      Christian Bale passes on role of Steve Jobs, a...      137  unrelated\n",
              "3      HBO and Apple in Talks for $15/Month Apple TV ...     1034  unrelated\n",
              "4      Spider burrowed through tourist's stomach and ...     1923   disagree\n",
              "...                                                  ...      ...        ...\n",
              "49967  Urgent: The Leader of ISIL 'Abu Bakr al-Baghda...     1681  unrelated\n",
              "49968  Brian Williams slams social media for speculat...     2419  unrelated\n",
              "49969  Mexico Says Missing Students Not Found In Firs...     1156      agree\n",
              "49970  US Lawmaker: Ten ISIS Fighters Have Been Appre...     1012    discuss\n",
              "49971  Shots Heard In Alleged Brown Shooting Recordin...     2044  unrelated\n",
              "\n",
              "[49972 rows x 3 columns]"
            ]
          },
          "metadata": {
            "tags": []
          },
          "execution_count": 10
        }
      ]
    },
    {
      "cell_type": "code",
      "metadata": {
        "id": "ZoNiowI2-LP-",
        "outputId": "1347ad6e-387a-447b-eb49-2f1b0c32a7d8",
        "colab": {
          "base_uri": "https://localhost:8080/"
        }
      },
      "source": [
        "stance['Stance'].isnull().value_counts()"
      ],
      "execution_count": 11,
      "outputs": [
        {
          "output_type": "execute_result",
          "data": {
            "text/plain": [
              "False    49972\n",
              "Name: Stance, dtype: int64"
            ]
          },
          "metadata": {
            "tags": []
          },
          "execution_count": 11
        }
      ]
    },
    {
      "cell_type": "code",
      "metadata": {
        "id": "MfZah1tSCehz",
        "outputId": "33160700-d3be-418a-c428-d538254c98a1",
        "colab": {
          "base_uri": "https://localhost:8080/"
        }
      },
      "source": [
        "art_len = pd.Series([], dtype = int)\n",
        "head_len = pd.Series([], dtype = int)\n",
        "for row_index, art in body.iterrows():\n",
        "  art_len[row_index] = len(art['articleBody'])\n",
        "for row_index, head in stance.iterrows():\n",
        "  head_len[row_index] = len(head['Headline'])\n",
        "body.insert(2, 'length', art_len)\n",
        "stance.insert(3, 'length', head_len)\n",
        "print(art_len.describe())\n",
        "print(head_len.describe())"
      ],
      "execution_count": 12,
      "outputs": [
        {
          "output_type": "stream",
          "text": [
            "count     1683.000000\n",
            "mean      2201.877005\n",
            "std       1791.974864\n",
            "min         38.000000\n",
            "25%       1169.500000\n",
            "50%       1808.000000\n",
            "75%       2716.500000\n",
            "max      27579.000000\n",
            "dtype: float64\n",
            "count    49972.000000\n",
            "mean        69.356860\n",
            "std         24.825253\n",
            "min          9.000000\n",
            "25%         54.000000\n",
            "50%         65.000000\n",
            "75%         79.000000\n",
            "max        225.000000\n",
            "dtype: float64\n"
          ],
          "name": "stdout"
        }
      ]
    },
    {
      "cell_type": "markdown",
      "metadata": {
        "id": "F-FCefAsumvA"
      },
      "source": [
        "**\\n Removal**"
      ]
    },
    {
      "cell_type": "code",
      "metadata": {
        "id": "e6AIv5xXMM7w",
        "outputId": "73b557ef-59f6-4618-c7b7-20baab637da0",
        "colab": {
          "base_uri": "https://localhost:8080/"
        }
      },
      "source": [
        "for row_id, art in body.iterrows():\n",
        "  body['articleBody'][row_id] = art['articleBody'].replace('\\n','')\n",
        "for row_id, stan in stance.iterrows():\n",
        "  stance['Headline'][row_id] = stan['Headline'].replace('\\n','')"
      ],
      "execution_count": 13,
      "outputs": [
        {
          "output_type": "stream",
          "text": [
            "/usr/local/lib/python3.6/dist-packages/ipykernel_launcher.py:2: SettingWithCopyWarning: \n",
            "A value is trying to be set on a copy of a slice from a DataFrame\n",
            "\n",
            "See the caveats in the documentation: https://pandas.pydata.org/pandas-docs/stable/user_guide/indexing.html#returning-a-view-versus-a-copy\n",
            "  \n",
            "/usr/local/lib/python3.6/dist-packages/ipykernel_launcher.py:4: SettingWithCopyWarning: \n",
            "A value is trying to be set on a copy of a slice from a DataFrame\n",
            "\n",
            "See the caveats in the documentation: https://pandas.pydata.org/pandas-docs/stable/user_guide/indexing.html#returning-a-view-versus-a-copy\n",
            "  after removing the cwd from sys.path.\n"
          ],
          "name": "stderr"
        }
      ]
    },
    {
      "cell_type": "markdown",
      "metadata": {
        "id": "rUUBWQw8ua4E"
      },
      "source": [
        "**Stopword Removal**"
      ]
    },
    {
      "cell_type": "code",
      "metadata": {
        "id": "VdwlmZTms628",
        "outputId": "ea49aca5-885f-4418-ba2e-bd2d1fc0952b",
        "colab": {
          "base_uri": "https://localhost:8080/"
        }
      },
      "source": [
        "import nltk\n",
        "nltk.download('stopwords')"
      ],
      "execution_count": 14,
      "outputs": [
        {
          "output_type": "stream",
          "text": [
            "[nltk_data] Downloading package stopwords to /root/nltk_data...\n",
            "[nltk_data]   Package stopwords is already up-to-date!\n"
          ],
          "name": "stdout"
        },
        {
          "output_type": "execute_result",
          "data": {
            "text/plain": [
              "True"
            ]
          },
          "metadata": {
            "tags": []
          },
          "execution_count": 14
        }
      ]
    },
    {
      "cell_type": "code",
      "metadata": {
        "id": "BN8VPmbHur0F"
      },
      "source": [
        "from nltk.corpus import stopwords\n",
        "# from nltk.tokenize import word_tokenize"
      ],
      "execution_count": 15,
      "outputs": []
    },
    {
      "cell_type": "code",
      "metadata": {
        "id": "jWbbFMFvvGnh"
      },
      "source": [
        "stop_words = stopwords.words('english')"
      ],
      "execution_count": 16,
      "outputs": []
    },
    {
      "cell_type": "code",
      "metadata": {
        "id": "wm9xIdVdvfDr",
        "outputId": "144d8dc4-e1f4-4a45-b0a4-c4d98c1bf181",
        "colab": {
          "base_uri": "https://localhost:8080/"
        }
      },
      "source": [
        "for row_id, art in body.iterrows():\n",
        "  body['articleBody'][row_id] = ' '.join([word for word in art['articleBody'].split() if word not in stop_words])\n",
        "for row_id, head in stance.iterrows():\n",
        "  stance['Headline'][row_id] = ' '.join([word for word in head['Headline'].split() if word not in stop_words])"
      ],
      "execution_count": 17,
      "outputs": [
        {
          "output_type": "stream",
          "text": [
            "/usr/local/lib/python3.6/dist-packages/ipykernel_launcher.py:2: SettingWithCopyWarning: \n",
            "A value is trying to be set on a copy of a slice from a DataFrame\n",
            "\n",
            "See the caveats in the documentation: https://pandas.pydata.org/pandas-docs/stable/user_guide/indexing.html#returning-a-view-versus-a-copy\n",
            "  \n",
            "/usr/local/lib/python3.6/dist-packages/ipykernel_launcher.py:4: SettingWithCopyWarning: \n",
            "A value is trying to be set on a copy of a slice from a DataFrame\n",
            "\n",
            "See the caveats in the documentation: https://pandas.pydata.org/pandas-docs/stable/user_guide/indexing.html#returning-a-view-versus-a-copy\n",
            "  after removing the cwd from sys.path.\n"
          ],
          "name": "stderr"
        }
      ]
    },
    {
      "cell_type": "markdown",
      "metadata": {
        "id": "zefd0joLx-rB"
      },
      "source": [
        "**Lemmatisation**"
      ]
    },
    {
      "cell_type": "code",
      "metadata": {
        "id": "6wJEuN-ryFWy",
        "outputId": "0008fc14-24e6-4633-afdc-cedcfcb72800",
        "colab": {
          "base_uri": "https://localhost:8080/"
        }
      },
      "source": [
        "nltk.download('wordnet')"
      ],
      "execution_count": 18,
      "outputs": [
        {
          "output_type": "stream",
          "text": [
            "[nltk_data] Downloading package wordnet to /root/nltk_data...\n",
            "[nltk_data]   Package wordnet is already up-to-date!\n"
          ],
          "name": "stdout"
        },
        {
          "output_type": "execute_result",
          "data": {
            "text/plain": [
              "True"
            ]
          },
          "metadata": {
            "tags": []
          },
          "execution_count": 18
        }
      ]
    },
    {
      "cell_type": "code",
      "metadata": {
        "id": "wr062MWryLsw"
      },
      "source": [
        "w_tokenizer = nltk.tokenize.WhitespaceTokenizer()\n",
        "lemmatizer = nltk.stem.WordNetLemmatizer()"
      ],
      "execution_count": 19,
      "outputs": []
    },
    {
      "cell_type": "code",
      "metadata": {
        "id": "UeAzT6J1y4-R"
      },
      "source": [
        "def lemmatize(text):\n",
        "  return [lemmatizer.lemmatize(word) for word in w_tokenizer.tokenize(text)]"
      ],
      "execution_count": 20,
      "outputs": []
    },
    {
      "cell_type": "code",
      "metadata": {
        "id": "A59QYHer0nM3",
        "outputId": "e294d9b3-c5a2-45fb-f2b4-65dcfb266dc0",
        "colab": {
          "base_uri": "https://localhost:8080/"
        }
      },
      "source": [
        "for row_id, art in body.iterrows():\n",
        "  body['articleBody'][row_id] = ' '.join(lemmatize(art['articleBody']))\n",
        "for row_id, head in stance.iterrows():\n",
        "  stance['Headline'][row_id] = ' '.join(lemmatize(head['Headline']))"
      ],
      "execution_count": 21,
      "outputs": [
        {
          "output_type": "stream",
          "text": [
            "/usr/local/lib/python3.6/dist-packages/ipykernel_launcher.py:2: SettingWithCopyWarning: \n",
            "A value is trying to be set on a copy of a slice from a DataFrame\n",
            "\n",
            "See the caveats in the documentation: https://pandas.pydata.org/pandas-docs/stable/user_guide/indexing.html#returning-a-view-versus-a-copy\n",
            "  \n",
            "/usr/local/lib/python3.6/dist-packages/ipykernel_launcher.py:4: SettingWithCopyWarning: \n",
            "A value is trying to be set on a copy of a slice from a DataFrame\n",
            "\n",
            "See the caveats in the documentation: https://pandas.pydata.org/pandas-docs/stable/user_guide/indexing.html#returning-a-view-versus-a-copy\n",
            "  after removing the cwd from sys.path.\n"
          ],
          "name": "stderr"
        }
      ]
    },
    {
      "cell_type": "markdown",
      "metadata": {
        "id": "xEw-NsFCG_FT"
      },
      "source": [
        "trimming the  length of article bodies and stances to 300 and 150"
      ]
    },
    {
      "cell_type": "code",
      "metadata": {
        "id": "bM6B_WaiG4Dx",
        "outputId": "3a27bec8-5066-43dd-8a67-c938e6cbf738",
        "colab": {
          "base_uri": "https://localhost:8080/"
        }
      },
      "source": [
        "for row_id, art in body.iterrows():\n",
        "  body['articleBody'][row_id] = art['articleBody'][:300]\n",
        "for row_id, head in stance.iterrows():\n",
        "  stance['Headline'][row_id] = head['Headline'][:150]"
      ],
      "execution_count": 22,
      "outputs": [
        {
          "output_type": "stream",
          "text": [
            "/usr/local/lib/python3.6/dist-packages/ipykernel_launcher.py:2: SettingWithCopyWarning: \n",
            "A value is trying to be set on a copy of a slice from a DataFrame\n",
            "\n",
            "See the caveats in the documentation: https://pandas.pydata.org/pandas-docs/stable/user_guide/indexing.html#returning-a-view-versus-a-copy\n",
            "  \n",
            "/usr/local/lib/python3.6/dist-packages/ipykernel_launcher.py:4: SettingWithCopyWarning: \n",
            "A value is trying to be set on a copy of a slice from a DataFrame\n",
            "\n",
            "See the caveats in the documentation: https://pandas.pydata.org/pandas-docs/stable/user_guide/indexing.html#returning-a-view-versus-a-copy\n",
            "  after removing the cwd from sys.path.\n"
          ],
          "name": "stderr"
        }
      ]
    },
    {
      "cell_type": "markdown",
      "metadata": {
        "id": "g-7dmf5TFt8F"
      },
      "source": [
        "case insensitive"
      ]
    },
    {
      "cell_type": "code",
      "metadata": {
        "id": "EJ6j5Z9lLidW",
        "outputId": "ad37d446-83b0-4ad3-c22d-317a081dfdab",
        "colab": {
          "base_uri": "https://localhost:8080/"
        }
      },
      "source": [
        "for row_id, art in body.iterrows():\n",
        "  body['articleBody'][row_id] = art['articleBody'].lower()\n",
        "for row_id, head in stance.iterrows():\n",
        "  stance['Headline'][row_id] = head['Headline'].lower()"
      ],
      "execution_count": 23,
      "outputs": [
        {
          "output_type": "stream",
          "text": [
            "/usr/local/lib/python3.6/dist-packages/ipykernel_launcher.py:2: SettingWithCopyWarning: \n",
            "A value is trying to be set on a copy of a slice from a DataFrame\n",
            "\n",
            "See the caveats in the documentation: https://pandas.pydata.org/pandas-docs/stable/user_guide/indexing.html#returning-a-view-versus-a-copy\n",
            "  \n",
            "/usr/local/lib/python3.6/dist-packages/ipykernel_launcher.py:4: SettingWithCopyWarning: \n",
            "A value is trying to be set on a copy of a slice from a DataFrame\n",
            "\n",
            "See the caveats in the documentation: https://pandas.pydata.org/pandas-docs/stable/user_guide/indexing.html#returning-a-view-versus-a-copy\n",
            "  after removing the cwd from sys.path.\n"
          ],
          "name": "stderr"
        }
      ]
    },
    {
      "cell_type": "code",
      "metadata": {
        "id": "P6ZHG9JRFHz3",
        "outputId": "99809da3-3cfd-4a08-a33d-f264058013d8",
        "colab": {
          "base_uri": "https://localhost:8080/",
          "height": 195
        }
      },
      "source": [
        "body.head()"
      ],
      "execution_count": 24,
      "outputs": [
        {
          "output_type": "execute_result",
          "data": {
            "text/html": [
              "<div>\n",
              "<style scoped>\n",
              "    .dataframe tbody tr th:only-of-type {\n",
              "        vertical-align: middle;\n",
              "    }\n",
              "\n",
              "    .dataframe tbody tr th {\n",
              "        vertical-align: top;\n",
              "    }\n",
              "\n",
              "    .dataframe thead th {\n",
              "        text-align: right;\n",
              "    }\n",
              "</style>\n",
              "<table border=\"1\" class=\"dataframe\">\n",
              "  <thead>\n",
              "    <tr style=\"text-align: right;\">\n",
              "      <th></th>\n",
              "      <th>Body ID</th>\n",
              "      <th>articleBody</th>\n",
              "      <th>length</th>\n",
              "    </tr>\n",
              "  </thead>\n",
              "  <tbody>\n",
              "    <tr>\n",
              "      <th>0</th>\n",
              "      <td>0</td>\n",
              "      <td>a small meteorite crashed wooded area nicaragu...</td>\n",
              "      <td>1902</td>\n",
              "    </tr>\n",
              "    <tr>\n",
              "      <th>1</th>\n",
              "      <td>4</td>\n",
              "      <td>last week hinted come ebola fear spread across...</td>\n",
              "      <td>621</td>\n",
              "    </tr>\n",
              "    <tr>\n",
              "      <th>2</th>\n",
              "      <td>5</td>\n",
              "      <td>(newser) – wonder long quarter pounder cheese ...</td>\n",
              "      <td>1360</td>\n",
              "    </tr>\n",
              "    <tr>\n",
              "      <th>3</th>\n",
              "      <td>6</td>\n",
              "      <td>posting photo gun-toting child online, isis su...</td>\n",
              "      <td>2708</td>\n",
              "    </tr>\n",
              "    <tr>\n",
              "      <th>4</th>\n",
              "      <td>7</td>\n",
              "      <td>at least 25 suspected boko haram insurgent kil...</td>\n",
              "      <td>2367</td>\n",
              "    </tr>\n",
              "  </tbody>\n",
              "</table>\n",
              "</div>"
            ],
            "text/plain": [
              "   Body ID                                        articleBody  length\n",
              "0        0  a small meteorite crashed wooded area nicaragu...    1902\n",
              "1        4  last week hinted come ebola fear spread across...     621\n",
              "2        5  (newser) – wonder long quarter pounder cheese ...    1360\n",
              "3        6  posting photo gun-toting child online, isis su...    2708\n",
              "4        7  at least 25 suspected boko haram insurgent kil...    2367"
            ]
          },
          "metadata": {
            "tags": []
          },
          "execution_count": 24
        }
      ]
    },
    {
      "cell_type": "code",
      "metadata": {
        "id": "IJgp70IoaiVU",
        "outputId": "2d4dff7d-f3e8-408c-d919-9d6742a1c337",
        "colab": {
          "base_uri": "https://localhost:8080/",
          "height": 195
        }
      },
      "source": [
        "stance.head()"
      ],
      "execution_count": 25,
      "outputs": [
        {
          "output_type": "execute_result",
          "data": {
            "text/html": [
              "<div>\n",
              "<style scoped>\n",
              "    .dataframe tbody tr th:only-of-type {\n",
              "        vertical-align: middle;\n",
              "    }\n",
              "\n",
              "    .dataframe tbody tr th {\n",
              "        vertical-align: top;\n",
              "    }\n",
              "\n",
              "    .dataframe thead th {\n",
              "        text-align: right;\n",
              "    }\n",
              "</style>\n",
              "<table border=\"1\" class=\"dataframe\">\n",
              "  <thead>\n",
              "    <tr style=\"text-align: right;\">\n",
              "      <th></th>\n",
              "      <th>Headline</th>\n",
              "      <th>Body ID</th>\n",
              "      <th>Stance</th>\n",
              "      <th>length</th>\n",
              "    </tr>\n",
              "  </thead>\n",
              "  <tbody>\n",
              "    <tr>\n",
              "      <th>0</th>\n",
              "      <td>police find mass graf least '15 bodies' near m...</td>\n",
              "      <td>712</td>\n",
              "      <td>unrelated</td>\n",
              "      <td>115</td>\n",
              "    </tr>\n",
              "    <tr>\n",
              "      <th>1</th>\n",
              "      <td>hundreds palestinians flee flood gaza israel o...</td>\n",
              "      <td>158</td>\n",
              "      <td>agree</td>\n",
              "      <td>65</td>\n",
              "    </tr>\n",
              "    <tr>\n",
              "      <th>2</th>\n",
              "      <td>christian bale pass role steve jobs, actor rep...</td>\n",
              "      <td>137</td>\n",
              "      <td>unrelated</td>\n",
              "      <td>91</td>\n",
              "    </tr>\n",
              "    <tr>\n",
              "      <th>3</th>\n",
              "      <td>hbo apple talks $15/month apple tv streaming s...</td>\n",
              "      <td>1034</td>\n",
              "      <td>unrelated</td>\n",
              "      <td>82</td>\n",
              "    </tr>\n",
              "    <tr>\n",
              "      <th>4</th>\n",
              "      <td>spider burrowed tourist's stomach chest</td>\n",
              "      <td>1923</td>\n",
              "      <td>disagree</td>\n",
              "      <td>63</td>\n",
              "    </tr>\n",
              "  </tbody>\n",
              "</table>\n",
              "</div>"
            ],
            "text/plain": [
              "                                            Headline  ...  length\n",
              "0  police find mass graf least '15 bodies' near m...  ...     115\n",
              "1  hundreds palestinians flee flood gaza israel o...  ...      65\n",
              "2  christian bale pass role steve jobs, actor rep...  ...      91\n",
              "3  hbo apple talks $15/month apple tv streaming s...  ...      82\n",
              "4            spider burrowed tourist's stomach chest  ...      63\n",
              "\n",
              "[5 rows x 4 columns]"
            ]
          },
          "metadata": {
            "tags": []
          },
          "execution_count": 25
        }
      ]
    },
    {
      "cell_type": "code",
      "metadata": {
        "id": "5mvzXK7aaqwP",
        "outputId": "94692d7d-000a-4835-f331-939ad177e885",
        "colab": {
          "base_uri": "https://localhost:8080/",
          "height": 52
        }
      },
      "source": [
        "body['articleBody'][0] "
      ],
      "execution_count": 26,
      "outputs": [
        {
          "output_type": "execute_result",
          "data": {
            "application/vnd.google.colaboratory.intrinsic+json": {
              "type": "string"
            },
            "text/plain": [
              "\"a small meteorite crashed wooded area nicaragua's capital managua overnight, government said sunday. residents reported hearing mysterious boom left 16-foot deep crater near city's airport, associated press reports. government spokeswoman rosario murillo said committee formed government study event \""
            ]
          },
          "metadata": {
            "tags": []
          },
          "execution_count": 26
        }
      ]
    },
    {
      "cell_type": "code",
      "metadata": {
        "id": "gx__2WGDBhxa",
        "outputId": "7e9cd23c-c050-4f2c-caed-50e1ce85085f",
        "colab": {
          "base_uri": "https://localhost:8080/",
          "height": 35
        }
      },
      "source": [
        "stance['Headline'][0]"
      ],
      "execution_count": 27,
      "outputs": [
        {
          "output_type": "execute_result",
          "data": {
            "application/vnd.google.colaboratory.intrinsic+json": {
              "type": "string"
            },
            "text/plain": [
              "\"police find mass graf least '15 bodies' near mexico town 43 student disappeared police clash\""
            ]
          },
          "metadata": {
            "tags": []
          },
          "execution_count": 27
        }
      ]
    },
    {
      "cell_type": "markdown",
      "metadata": {
        "id": "iQY1MOuGB7mX"
      },
      "source": [
        "Vectorization"
      ]
    },
    {
      "cell_type": "code",
      "metadata": {
        "id": "sMkGL2zGBmIv"
      },
      "source": [
        ""
      ],
      "execution_count": 27,
      "outputs": []
    }
  ]
}